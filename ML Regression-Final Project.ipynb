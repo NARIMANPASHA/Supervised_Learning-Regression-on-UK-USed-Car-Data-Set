{
 "cells": [
  {
   "cell_type": "markdown",
   "id": "dca149f8",
   "metadata": {},
   "source": [
    "# Supervised Learning: Regression on UK Used Car Data Set"
   ]
  },
  {
   "cell_type": "markdown",
   "id": "aaa9dade",
   "metadata": {},
   "source": [
    "- The main objective of this analysis is to predict price(£) of used Ford cars using a Linear Regression and different regularization regressions. \n",
    "- This analysis attempts to try both train-test-split and cross-validation to have an overview of how these two methods can lead to different decisions in terms of model selection. \n",
    "\n"
   ]
  },
  {
   "cell_type": "markdown",
   "id": "8d1279d3",
   "metadata": {},
   "source": [
    "### About the Data"
   ]
  },
  {
   "cell_type": "markdown",
   "id": "f2355f7a",
   "metadata": {},
   "source": [
    "The data set used in this analysis is a part of 100,000 UK Used Car Data Set published on Kaggle in July 2020 by a member (Aditya). \n",
    "The author scraped the data from 100,000 listings, which have been separated into files corresponding to each car manufacturer\n",
    "The cleaned data set contains information of price, transmission, mileage, fuel type, road tax, miles per gallon (mpg), and engine size.\n",
    " Duplicate listings removed and cleaned the columns\n",
    "The cleaned data were then separated into .csv files corresponding with each car manufacturer.\n",
    " The Ford data set was selected for this analysis. This data set has 17,965 records and 9 variables. During the analysis, some duplicates were detected and removed, and also there was a row which car year was 2060, so this row was removed as well: remaining 17,810 records.\n"
   ]
  },
  {
   "cell_type": "markdown",
   "id": "1e2207a8",
   "metadata": {},
   "source": [
    "# 1. DATA PREPARATION, CLEANING AND EXPLORATORY DATA ANALYSIS"
   ]
  },
  {
   "cell_type": "markdown",
   "id": "467abf29",
   "metadata": {},
   "source": [
    "Dataset can be found here:\n",
    "https://www.kaggle.com/datasets/adityadesai13/used-car-dataset-ford-and-mercedes"
   ]
  },
  {
   "cell_type": "code",
   "execution_count": 1,
   "id": "87b81777",
   "metadata": {},
   "outputs": [],
   "source": [
    "import pandas as pd\n",
    "import seaborn as sns\n",
    "import numpy as np\n",
    "import matplotlib.pyplot as plt\n",
    "from scipy.stats.mstats import normaltest # D'Agostino K^2 Test\n",
    "sns.set()\n",
    "%matplotlib inline\n",
    "\n",
    "# Mute the setting wtih a copy warnings\n",
    "pd.options.mode.chained_assignment = None\n",
    "\n",
    "import warnings\n",
    "warnings.filterwarnings('ignore')\n",
    "from sklearn.linear_model import LinearRegression, Lasso, Ridge"
   ]
  },
  {
   "cell_type": "code",
   "execution_count": 2,
   "id": "52ea6f31",
   "metadata": {},
   "outputs": [
    {
     "data": {
      "text/html": [
       "<div>\n",
       "<style scoped>\n",
       "    .dataframe tbody tr th:only-of-type {\n",
       "        vertical-align: middle;\n",
       "    }\n",
       "\n",
       "    .dataframe tbody tr th {\n",
       "        vertical-align: top;\n",
       "    }\n",
       "\n",
       "    .dataframe thead th {\n",
       "        text-align: right;\n",
       "    }\n",
       "</style>\n",
       "<table border=\"1\" class=\"dataframe\">\n",
       "  <thead>\n",
       "    <tr style=\"text-align: right;\">\n",
       "      <th></th>\n",
       "      <th>model</th>\n",
       "      <th>year</th>\n",
       "      <th>price</th>\n",
       "      <th>transmission</th>\n",
       "      <th>mileage</th>\n",
       "      <th>fuelType</th>\n",
       "      <th>tax</th>\n",
       "      <th>mpg</th>\n",
       "      <th>engineSize</th>\n",
       "    </tr>\n",
       "  </thead>\n",
       "  <tbody>\n",
       "    <tr>\n",
       "      <th>0</th>\n",
       "      <td>Fiesta</td>\n",
       "      <td>2017</td>\n",
       "      <td>12000</td>\n",
       "      <td>Automatic</td>\n",
       "      <td>15944</td>\n",
       "      <td>Petrol</td>\n",
       "      <td>150</td>\n",
       "      <td>57.7</td>\n",
       "      <td>1.0</td>\n",
       "    </tr>\n",
       "    <tr>\n",
       "      <th>1</th>\n",
       "      <td>Focus</td>\n",
       "      <td>2018</td>\n",
       "      <td>14000</td>\n",
       "      <td>Manual</td>\n",
       "      <td>9083</td>\n",
       "      <td>Petrol</td>\n",
       "      <td>150</td>\n",
       "      <td>57.7</td>\n",
       "      <td>1.0</td>\n",
       "    </tr>\n",
       "    <tr>\n",
       "      <th>2</th>\n",
       "      <td>Focus</td>\n",
       "      <td>2017</td>\n",
       "      <td>13000</td>\n",
       "      <td>Manual</td>\n",
       "      <td>12456</td>\n",
       "      <td>Petrol</td>\n",
       "      <td>150</td>\n",
       "      <td>57.7</td>\n",
       "      <td>1.0</td>\n",
       "    </tr>\n",
       "    <tr>\n",
       "      <th>3</th>\n",
       "      <td>Fiesta</td>\n",
       "      <td>2019</td>\n",
       "      <td>17500</td>\n",
       "      <td>Manual</td>\n",
       "      <td>10460</td>\n",
       "      <td>Petrol</td>\n",
       "      <td>145</td>\n",
       "      <td>40.3</td>\n",
       "      <td>1.5</td>\n",
       "    </tr>\n",
       "    <tr>\n",
       "      <th>4</th>\n",
       "      <td>Fiesta</td>\n",
       "      <td>2019</td>\n",
       "      <td>16500</td>\n",
       "      <td>Automatic</td>\n",
       "      <td>1482</td>\n",
       "      <td>Petrol</td>\n",
       "      <td>145</td>\n",
       "      <td>48.7</td>\n",
       "      <td>1.0</td>\n",
       "    </tr>\n",
       "    <tr>\n",
       "      <th>...</th>\n",
       "      <td>...</td>\n",
       "      <td>...</td>\n",
       "      <td>...</td>\n",
       "      <td>...</td>\n",
       "      <td>...</td>\n",
       "      <td>...</td>\n",
       "      <td>...</td>\n",
       "      <td>...</td>\n",
       "      <td>...</td>\n",
       "    </tr>\n",
       "    <tr>\n",
       "      <th>17960</th>\n",
       "      <td>Fiesta</td>\n",
       "      <td>2016</td>\n",
       "      <td>7999</td>\n",
       "      <td>Manual</td>\n",
       "      <td>31348</td>\n",
       "      <td>Petrol</td>\n",
       "      <td>125</td>\n",
       "      <td>54.3</td>\n",
       "      <td>1.2</td>\n",
       "    </tr>\n",
       "    <tr>\n",
       "      <th>17961</th>\n",
       "      <td>B-MAX</td>\n",
       "      <td>2017</td>\n",
       "      <td>8999</td>\n",
       "      <td>Manual</td>\n",
       "      <td>16700</td>\n",
       "      <td>Petrol</td>\n",
       "      <td>150</td>\n",
       "      <td>47.1</td>\n",
       "      <td>1.4</td>\n",
       "    </tr>\n",
       "    <tr>\n",
       "      <th>17962</th>\n",
       "      <td>B-MAX</td>\n",
       "      <td>2014</td>\n",
       "      <td>7499</td>\n",
       "      <td>Manual</td>\n",
       "      <td>40700</td>\n",
       "      <td>Petrol</td>\n",
       "      <td>30</td>\n",
       "      <td>57.7</td>\n",
       "      <td>1.0</td>\n",
       "    </tr>\n",
       "    <tr>\n",
       "      <th>17963</th>\n",
       "      <td>Focus</td>\n",
       "      <td>2015</td>\n",
       "      <td>9999</td>\n",
       "      <td>Manual</td>\n",
       "      <td>7010</td>\n",
       "      <td>Diesel</td>\n",
       "      <td>20</td>\n",
       "      <td>67.3</td>\n",
       "      <td>1.6</td>\n",
       "    </tr>\n",
       "    <tr>\n",
       "      <th>17964</th>\n",
       "      <td>KA</td>\n",
       "      <td>2018</td>\n",
       "      <td>8299</td>\n",
       "      <td>Manual</td>\n",
       "      <td>5007</td>\n",
       "      <td>Petrol</td>\n",
       "      <td>145</td>\n",
       "      <td>57.7</td>\n",
       "      <td>1.2</td>\n",
       "    </tr>\n",
       "  </tbody>\n",
       "</table>\n",
       "<p>17965 rows × 9 columns</p>\n",
       "</div>"
      ],
      "text/plain": [
       "         model  year  price transmission  mileage fuelType  tax   mpg  \\\n",
       "0       Fiesta  2017  12000    Automatic    15944   Petrol  150  57.7   \n",
       "1        Focus  2018  14000       Manual     9083   Petrol  150  57.7   \n",
       "2        Focus  2017  13000       Manual    12456   Petrol  150  57.7   \n",
       "3       Fiesta  2019  17500       Manual    10460   Petrol  145  40.3   \n",
       "4       Fiesta  2019  16500    Automatic     1482   Petrol  145  48.7   \n",
       "...        ...   ...    ...          ...      ...      ...  ...   ...   \n",
       "17960   Fiesta  2016   7999       Manual    31348   Petrol  125  54.3   \n",
       "17961    B-MAX  2017   8999       Manual    16700   Petrol  150  47.1   \n",
       "17962    B-MAX  2014   7499       Manual    40700   Petrol   30  57.7   \n",
       "17963    Focus  2015   9999       Manual     7010   Diesel   20  67.3   \n",
       "17964       KA  2018   8299       Manual     5007   Petrol  145  57.7   \n",
       "\n",
       "       engineSize  \n",
       "0             1.0  \n",
       "1             1.0  \n",
       "2             1.0  \n",
       "3             1.5  \n",
       "4             1.0  \n",
       "...           ...  \n",
       "17960         1.2  \n",
       "17961         1.4  \n",
       "17962         1.0  \n",
       "17963         1.6  \n",
       "17964         1.2  \n",
       "\n",
       "[17965 rows x 9 columns]"
      ]
     },
     "execution_count": 2,
     "metadata": {},
     "output_type": "execute_result"
    }
   ],
   "source": [
    "# load the dataset\n",
    "linktofile='F:\\\\Data Science\\\\IBM Machine Learning Specialization\\\\2. Supervised Machine Learning Regression\\\\final project\\\\raw data\\\\ford.csv'\n",
    "data=pd.read_csv(linktofile)\n",
    "data"
   ]
  },
  {
   "cell_type": "code",
   "execution_count": 3,
   "id": "e9f657fc",
   "metadata": {},
   "outputs": [
    {
     "data": {
      "text/plain": [
       "17726    2060\n",
       "Name: year, dtype: int64"
      ]
     },
     "execution_count": 3,
     "metadata": {},
     "output_type": "execute_result"
    }
   ],
   "source": [
    "data.year[data.year>2020]"
   ]
  },
  {
   "cell_type": "code",
   "execution_count": 4,
   "id": "bcb023f2",
   "metadata": {},
   "outputs": [
    {
     "data": {
      "text/plain": [
       "Series([], Name: year, dtype: int64)"
      ]
     },
     "execution_count": 4,
     "metadata": {},
     "output_type": "execute_result"
    }
   ],
   "source": [
    "# lets remove row 17726 since we are not in 2060 yet :)\n",
    "\n",
    "data.drop(17726,axis=0,inplace=True)\n",
    "data.year[data.year>2020]"
   ]
  },
  {
   "cell_type": "code",
   "execution_count": 5,
   "id": "d6ca8eff",
   "metadata": {},
   "outputs": [
    {
     "name": "stdout",
     "output_type": "stream",
     "text": [
      "<class 'pandas.core.frame.DataFrame'>\n",
      "Int64Index: 17964 entries, 0 to 17964\n",
      "Data columns (total 9 columns):\n",
      " #   Column        Non-Null Count  Dtype  \n",
      "---  ------        --------------  -----  \n",
      " 0   model         17964 non-null  object \n",
      " 1   year          17964 non-null  int64  \n",
      " 2   price         17964 non-null  int64  \n",
      " 3   transmission  17964 non-null  object \n",
      " 4   mileage       17964 non-null  int64  \n",
      " 5   fuelType      17964 non-null  object \n",
      " 6   tax           17964 non-null  int64  \n",
      " 7   mpg           17964 non-null  float64\n",
      " 8   engineSize    17964 non-null  float64\n",
      "dtypes: float64(2), int64(4), object(3)\n",
      "memory usage: 1.4+ MB\n"
     ]
    }
   ],
   "source": [
    "data.info()"
   ]
  },
  {
   "cell_type": "markdown",
   "id": "7dc23812",
   "metadata": {},
   "source": [
    "So, there is no Null values. that is good news :)"
   ]
  },
  {
   "cell_type": "code",
   "execution_count": 6,
   "id": "17fba646",
   "metadata": {},
   "outputs": [
    {
     "data": {
      "text/plain": [
       "int64      4\n",
       "object     3\n",
       "float64    2\n",
       "dtype: int64"
      ]
     },
     "execution_count": 6,
     "metadata": {},
     "output_type": "execute_result"
    }
   ],
   "source": [
    "data.dtypes.value_counts()"
   ]
  },
  {
   "cell_type": "markdown",
   "id": "4596d085",
   "metadata": {},
   "source": [
    "there is only 3 object types here"
   ]
  },
  {
   "cell_type": "code",
   "execution_count": 7,
   "id": "c3c12a90",
   "metadata": {},
   "outputs": [
    {
     "data": {
      "text/plain": [
       "model           23\n",
       "transmission     3\n",
       "fuelType         5\n",
       "dtype: int64"
      ]
     },
     "execution_count": 7,
     "metadata": {},
     "output_type": "execute_result"
    }
   ],
   "source": [
    "# show only object type column names and number of unique values in each of them\n",
    "data_object=data.columns[data.dtypes==object].to_list()\n",
    "data[data_object].nunique()"
   ]
  },
  {
   "cell_type": "code",
   "execution_count": 8,
   "id": "754dd16a",
   "metadata": {},
   "outputs": [
    {
     "data": {
      "text/plain": [
       "154"
      ]
     },
     "execution_count": 8,
     "metadata": {},
     "output_type": "execute_result"
    }
   ],
   "source": [
    "# Lets see how many duplicate rows we have here\n",
    "data.duplicated().sum()"
   ]
  },
  {
   "cell_type": "code",
   "execution_count": 9,
   "id": "744848e0",
   "metadata": {},
   "outputs": [
    {
     "data": {
      "text/html": [
       "<div>\n",
       "<style scoped>\n",
       "    .dataframe tbody tr th:only-of-type {\n",
       "        vertical-align: middle;\n",
       "    }\n",
       "\n",
       "    .dataframe tbody tr th {\n",
       "        vertical-align: top;\n",
       "    }\n",
       "\n",
       "    .dataframe thead th {\n",
       "        text-align: right;\n",
       "    }\n",
       "</style>\n",
       "<table border=\"1\" class=\"dataframe\">\n",
       "  <thead>\n",
       "    <tr style=\"text-align: right;\">\n",
       "      <th></th>\n",
       "      <th>model</th>\n",
       "      <th>year</th>\n",
       "      <th>price</th>\n",
       "      <th>transmission</th>\n",
       "      <th>mileage</th>\n",
       "      <th>fuelType</th>\n",
       "      <th>tax</th>\n",
       "      <th>mpg</th>\n",
       "      <th>engineSize</th>\n",
       "    </tr>\n",
       "  </thead>\n",
       "  <tbody>\n",
       "    <tr>\n",
       "      <th>159</th>\n",
       "      <td>Focus</td>\n",
       "      <td>2016</td>\n",
       "      <td>10995</td>\n",
       "      <td>Manual</td>\n",
       "      <td>30923</td>\n",
       "      <td>Diesel</td>\n",
       "      <td>0</td>\n",
       "      <td>74.3</td>\n",
       "      <td>1.5</td>\n",
       "    </tr>\n",
       "    <tr>\n",
       "      <th>312</th>\n",
       "      <td>Focus</td>\n",
       "      <td>2019</td>\n",
       "      <td>14998</td>\n",
       "      <td>Manual</td>\n",
       "      <td>7000</td>\n",
       "      <td>Petrol</td>\n",
       "      <td>145</td>\n",
       "      <td>58.9</td>\n",
       "      <td>1.0</td>\n",
       "    </tr>\n",
       "    <tr>\n",
       "      <th>349</th>\n",
       "      <td>Focus</td>\n",
       "      <td>2019</td>\n",
       "      <td>14998</td>\n",
       "      <td>Manual</td>\n",
       "      <td>7000</td>\n",
       "      <td>Petrol</td>\n",
       "      <td>145</td>\n",
       "      <td>58.9</td>\n",
       "      <td>1.0</td>\n",
       "    </tr>\n",
       "    <tr>\n",
       "      <th>510</th>\n",
       "      <td>EcoSport</td>\n",
       "      <td>2019</td>\n",
       "      <td>15489</td>\n",
       "      <td>Manual</td>\n",
       "      <td>5636</td>\n",
       "      <td>Diesel</td>\n",
       "      <td>145</td>\n",
       "      <td>68.9</td>\n",
       "      <td>1.5</td>\n",
       "    </tr>\n",
       "    <tr>\n",
       "      <th>512</th>\n",
       "      <td>Grand Tourneo Connect</td>\n",
       "      <td>2019</td>\n",
       "      <td>19999</td>\n",
       "      <td>Manual</td>\n",
       "      <td>3500</td>\n",
       "      <td>Diesel</td>\n",
       "      <td>145</td>\n",
       "      <td>61.4</td>\n",
       "      <td>1.5</td>\n",
       "    </tr>\n",
       "    <tr>\n",
       "      <th>...</th>\n",
       "      <td>...</td>\n",
       "      <td>...</td>\n",
       "      <td>...</td>\n",
       "      <td>...</td>\n",
       "      <td>...</td>\n",
       "      <td>...</td>\n",
       "      <td>...</td>\n",
       "      <td>...</td>\n",
       "      <td>...</td>\n",
       "    </tr>\n",
       "    <tr>\n",
       "      <th>14556</th>\n",
       "      <td>Mondeo</td>\n",
       "      <td>2015</td>\n",
       "      <td>6793</td>\n",
       "      <td>Manual</td>\n",
       "      <td>138000</td>\n",
       "      <td>Diesel</td>\n",
       "      <td>20</td>\n",
       "      <td>68.9</td>\n",
       "      <td>2.0</td>\n",
       "    </tr>\n",
       "    <tr>\n",
       "      <th>15121</th>\n",
       "      <td>Kuga</td>\n",
       "      <td>2017</td>\n",
       "      <td>14999</td>\n",
       "      <td>Manual</td>\n",
       "      <td>24877</td>\n",
       "      <td>Diesel</td>\n",
       "      <td>30</td>\n",
       "      <td>64.2</td>\n",
       "      <td>1.5</td>\n",
       "    </tr>\n",
       "    <tr>\n",
       "      <th>15127</th>\n",
       "      <td>EcoSport</td>\n",
       "      <td>2019</td>\n",
       "      <td>16799</td>\n",
       "      <td>Automatic</td>\n",
       "      <td>433</td>\n",
       "      <td>Petrol</td>\n",
       "      <td>150</td>\n",
       "      <td>45.6</td>\n",
       "      <td>1.0</td>\n",
       "    </tr>\n",
       "    <tr>\n",
       "      <th>15685</th>\n",
       "      <td>KA</td>\n",
       "      <td>2008</td>\n",
       "      <td>1795</td>\n",
       "      <td>Manual</td>\n",
       "      <td>63000</td>\n",
       "      <td>Petrol</td>\n",
       "      <td>160</td>\n",
       "      <td>45.6</td>\n",
       "      <td>1.3</td>\n",
       "    </tr>\n",
       "    <tr>\n",
       "      <th>17608</th>\n",
       "      <td>B-MAX</td>\n",
       "      <td>2017</td>\n",
       "      <td>11495</td>\n",
       "      <td>Automatic</td>\n",
       "      <td>5000</td>\n",
       "      <td>Petrol</td>\n",
       "      <td>145</td>\n",
       "      <td>44.1</td>\n",
       "      <td>1.6</td>\n",
       "    </tr>\n",
       "  </tbody>\n",
       "</table>\n",
       "<p>154 rows × 9 columns</p>\n",
       "</div>"
      ],
      "text/plain": [
       "                        model  year  price transmission  mileage fuelType  \\\n",
       "159                     Focus  2016  10995       Manual    30923   Diesel   \n",
       "312                     Focus  2019  14998       Manual     7000   Petrol   \n",
       "349                     Focus  2019  14998       Manual     7000   Petrol   \n",
       "510                  EcoSport  2019  15489       Manual     5636   Diesel   \n",
       "512     Grand Tourneo Connect  2019  19999       Manual     3500   Diesel   \n",
       "...                       ...   ...    ...          ...      ...      ...   \n",
       "14556                  Mondeo  2015   6793       Manual   138000   Diesel   \n",
       "15121                    Kuga  2017  14999       Manual    24877   Diesel   \n",
       "15127                EcoSport  2019  16799    Automatic      433   Petrol   \n",
       "15685                      KA  2008   1795       Manual    63000   Petrol   \n",
       "17608                   B-MAX  2017  11495    Automatic     5000   Petrol   \n",
       "\n",
       "       tax   mpg  engineSize  \n",
       "159      0  74.3         1.5  \n",
       "312    145  58.9         1.0  \n",
       "349    145  58.9         1.0  \n",
       "510    145  68.9         1.5  \n",
       "512    145  61.4         1.5  \n",
       "...    ...   ...         ...  \n",
       "14556   20  68.9         2.0  \n",
       "15121   30  64.2         1.5  \n",
       "15127  150  45.6         1.0  \n",
       "15685  160  45.6         1.3  \n",
       "17608  145  44.1         1.6  \n",
       "\n",
       "[154 rows x 9 columns]"
      ]
     },
     "execution_count": 9,
     "metadata": {},
     "output_type": "execute_result"
    }
   ],
   "source": [
    "# Lets extract the duplicated rows now\n",
    "data.loc[data.duplicated(), :]"
   ]
  },
  {
   "cell_type": "code",
   "execution_count": 10,
   "id": "e8a4c160",
   "metadata": {},
   "outputs": [
    {
     "data": {
      "text/plain": [
       "(17810, 9)"
      ]
     },
     "execution_count": 10,
     "metadata": {},
     "output_type": "execute_result"
    }
   ],
   "source": [
    "# Drop duplicates while keeping first appearance and check the new data shape\n",
    "data = data.drop_duplicates(keep='first').reset_index(drop=True)\n",
    "data.shape"
   ]
  },
  {
   "cell_type": "code",
   "execution_count": 11,
   "id": "8d1bcf8b",
   "metadata": {},
   "outputs": [
    {
     "name": "stdout",
     "output_type": "stream",
     "text": [
      "<class 'pandas.core.frame.DataFrame'>\n",
      "RangeIndex: 17810 entries, 0 to 17809\n",
      "Data columns (total 9 columns):\n",
      " #   Column        Non-Null Count  Dtype  \n",
      "---  ------        --------------  -----  \n",
      " 0   model         17810 non-null  object \n",
      " 1   year          17810 non-null  int64  \n",
      " 2   price         17810 non-null  int64  \n",
      " 3   transmission  17810 non-null  object \n",
      " 4   mileage       17810 non-null  int64  \n",
      " 5   fuelType      17810 non-null  object \n",
      " 6   tax           17810 non-null  int64  \n",
      " 7   mpg           17810 non-null  float64\n",
      " 8   engineSize    17810 non-null  float64\n",
      "dtypes: float64(2), int64(4), object(3)\n",
      "memory usage: 1.2+ MB\n"
     ]
    }
   ],
   "source": [
    "data.info()"
   ]
  },
  {
   "cell_type": "code",
   "execution_count": 12,
   "id": "725e42af",
   "metadata": {},
   "outputs": [
    {
     "data": {
      "text/html": [
       "<div>\n",
       "<style scoped>\n",
       "    .dataframe tbody tr th:only-of-type {\n",
       "        vertical-align: middle;\n",
       "    }\n",
       "\n",
       "    .dataframe tbody tr th {\n",
       "        vertical-align: top;\n",
       "    }\n",
       "\n",
       "    .dataframe thead th {\n",
       "        text-align: right;\n",
       "    }\n",
       "</style>\n",
       "<table border=\"1\" class=\"dataframe\">\n",
       "  <thead>\n",
       "    <tr style=\"text-align: right;\">\n",
       "      <th></th>\n",
       "      <th>year</th>\n",
       "      <th>price</th>\n",
       "      <th>mileage</th>\n",
       "      <th>tax</th>\n",
       "      <th>mpg</th>\n",
       "      <th>engineSize</th>\n",
       "    </tr>\n",
       "  </thead>\n",
       "  <tbody>\n",
       "    <tr>\n",
       "      <th>count</th>\n",
       "      <td>17810.000000</td>\n",
       "      <td>17810.000000</td>\n",
       "      <td>17810.000000</td>\n",
       "      <td>17810.000000</td>\n",
       "      <td>17810.000000</td>\n",
       "      <td>17810.000000</td>\n",
       "    </tr>\n",
       "    <tr>\n",
       "      <th>mean</th>\n",
       "      <td>2016.860079</td>\n",
       "      <td>12270.103481</td>\n",
       "      <td>23380.413532</td>\n",
       "      <td>113.314992</td>\n",
       "      <td>57.909556</td>\n",
       "      <td>1.350640</td>\n",
       "    </tr>\n",
       "    <tr>\n",
       "      <th>std</th>\n",
       "      <td>2.026487</td>\n",
       "      <td>4736.260216</td>\n",
       "      <td>19418.185474</td>\n",
       "      <td>62.030508</td>\n",
       "      <td>10.132632</td>\n",
       "      <td>0.432597</td>\n",
       "    </tr>\n",
       "    <tr>\n",
       "      <th>min</th>\n",
       "      <td>1996.000000</td>\n",
       "      <td>495.000000</td>\n",
       "      <td>1.000000</td>\n",
       "      <td>0.000000</td>\n",
       "      <td>20.800000</td>\n",
       "      <td>0.000000</td>\n",
       "    </tr>\n",
       "    <tr>\n",
       "      <th>25%</th>\n",
       "      <td>2016.000000</td>\n",
       "      <td>8999.000000</td>\n",
       "      <td>10000.000000</td>\n",
       "      <td>30.000000</td>\n",
       "      <td>52.300000</td>\n",
       "      <td>1.000000</td>\n",
       "    </tr>\n",
       "    <tr>\n",
       "      <th>50%</th>\n",
       "      <td>2017.000000</td>\n",
       "      <td>11289.500000</td>\n",
       "      <td>18277.000000</td>\n",
       "      <td>145.000000</td>\n",
       "      <td>58.900000</td>\n",
       "      <td>1.200000</td>\n",
       "    </tr>\n",
       "    <tr>\n",
       "      <th>75%</th>\n",
       "      <td>2018.000000</td>\n",
       "      <td>15295.000000</td>\n",
       "      <td>31095.250000</td>\n",
       "      <td>145.000000</td>\n",
       "      <td>65.700000</td>\n",
       "      <td>1.500000</td>\n",
       "    </tr>\n",
       "    <tr>\n",
       "      <th>max</th>\n",
       "      <td>2020.000000</td>\n",
       "      <td>54995.000000</td>\n",
       "      <td>177644.000000</td>\n",
       "      <td>580.000000</td>\n",
       "      <td>201.800000</td>\n",
       "      <td>5.000000</td>\n",
       "    </tr>\n",
       "  </tbody>\n",
       "</table>\n",
       "</div>"
      ],
      "text/plain": [
       "               year         price        mileage           tax           mpg  \\\n",
       "count  17810.000000  17810.000000   17810.000000  17810.000000  17810.000000   \n",
       "mean    2016.860079  12270.103481   23380.413532    113.314992     57.909556   \n",
       "std        2.026487   4736.260216   19418.185474     62.030508     10.132632   \n",
       "min     1996.000000    495.000000       1.000000      0.000000     20.800000   \n",
       "25%     2016.000000   8999.000000   10000.000000     30.000000     52.300000   \n",
       "50%     2017.000000  11289.500000   18277.000000    145.000000     58.900000   \n",
       "75%     2018.000000  15295.000000   31095.250000    145.000000     65.700000   \n",
       "max     2020.000000  54995.000000  177644.000000    580.000000    201.800000   \n",
       "\n",
       "         engineSize  \n",
       "count  17810.000000  \n",
       "mean       1.350640  \n",
       "std        0.432597  \n",
       "min        0.000000  \n",
       "25%        1.000000  \n",
       "50%        1.200000  \n",
       "75%        1.500000  \n",
       "max        5.000000  "
      ]
     },
     "execution_count": 12,
     "metadata": {},
     "output_type": "execute_result"
    }
   ],
   "source": [
    "data.describe()"
   ]
  },
  {
   "cell_type": "code",
   "execution_count": 13,
   "id": "9658a2b7",
   "metadata": {},
   "outputs": [
    {
     "data": {
      "text/html": [
       "<div>\n",
       "<style scoped>\n",
       "    .dataframe tbody tr th:only-of-type {\n",
       "        vertical-align: middle;\n",
       "    }\n",
       "\n",
       "    .dataframe tbody tr th {\n",
       "        vertical-align: top;\n",
       "    }\n",
       "\n",
       "    .dataframe thead th {\n",
       "        text-align: right;\n",
       "    }\n",
       "</style>\n",
       "<table border=\"1\" class=\"dataframe\">\n",
       "  <thead>\n",
       "    <tr style=\"text-align: right;\">\n",
       "      <th></th>\n",
       "      <th>model</th>\n",
       "      <th>transmission</th>\n",
       "      <th>fuelType</th>\n",
       "    </tr>\n",
       "  </thead>\n",
       "  <tbody>\n",
       "    <tr>\n",
       "      <th>count</th>\n",
       "      <td>17810</td>\n",
       "      <td>17810</td>\n",
       "      <td>17810</td>\n",
       "    </tr>\n",
       "    <tr>\n",
       "      <th>unique</th>\n",
       "      <td>23</td>\n",
       "      <td>3</td>\n",
       "      <td>5</td>\n",
       "    </tr>\n",
       "    <tr>\n",
       "      <th>top</th>\n",
       "      <td>Fiesta</td>\n",
       "      <td>Manual</td>\n",
       "      <td>Petrol</td>\n",
       "    </tr>\n",
       "    <tr>\n",
       "      <th>freq</th>\n",
       "      <td>6508</td>\n",
       "      <td>15382</td>\n",
       "      <td>12079</td>\n",
       "    </tr>\n",
       "  </tbody>\n",
       "</table>\n",
       "</div>"
      ],
      "text/plain": [
       "          model transmission fuelType\n",
       "count     17810        17810    17810\n",
       "unique       23            3        5\n",
       "top      Fiesta       Manual   Petrol\n",
       "freq       6508        15382    12079"
      ]
     },
     "execution_count": 13,
     "metadata": {},
     "output_type": "execute_result"
    }
   ],
   "source": [
    "data.describe(include=[object])  "
   ]
  },
  {
   "cell_type": "code",
   "execution_count": 14,
   "id": "53a9b42e",
   "metadata": {},
   "outputs": [
    {
     "data": {
      "text/html": [
       "<div>\n",
       "<style scoped>\n",
       "    .dataframe tbody tr th:only-of-type {\n",
       "        vertical-align: middle;\n",
       "    }\n",
       "\n",
       "    .dataframe tbody tr th {\n",
       "        vertical-align: top;\n",
       "    }\n",
       "\n",
       "    .dataframe thead th {\n",
       "        text-align: right;\n",
       "    }\n",
       "</style>\n",
       "<table border=\"1\" class=\"dataframe\">\n",
       "  <thead>\n",
       "    <tr style=\"text-align: right;\">\n",
       "      <th></th>\n",
       "      <th>model</th>\n",
       "      <th>price</th>\n",
       "      <th>transmission</th>\n",
       "      <th>mileage</th>\n",
       "      <th>fuelType</th>\n",
       "      <th>tax</th>\n",
       "      <th>mpg</th>\n",
       "      <th>engineSize</th>\n",
       "      <th>age</th>\n",
       "    </tr>\n",
       "  </thead>\n",
       "  <tbody>\n",
       "    <tr>\n",
       "      <th>0</th>\n",
       "      <td>Fiesta</td>\n",
       "      <td>12000</td>\n",
       "      <td>Automatic</td>\n",
       "      <td>15944</td>\n",
       "      <td>Petrol</td>\n",
       "      <td>150</td>\n",
       "      <td>57.7</td>\n",
       "      <td>1.0</td>\n",
       "      <td>3</td>\n",
       "    </tr>\n",
       "    <tr>\n",
       "      <th>1</th>\n",
       "      <td>Focus</td>\n",
       "      <td>14000</td>\n",
       "      <td>Manual</td>\n",
       "      <td>9083</td>\n",
       "      <td>Petrol</td>\n",
       "      <td>150</td>\n",
       "      <td>57.7</td>\n",
       "      <td>1.0</td>\n",
       "      <td>2</td>\n",
       "    </tr>\n",
       "    <tr>\n",
       "      <th>2</th>\n",
       "      <td>Focus</td>\n",
       "      <td>13000</td>\n",
       "      <td>Manual</td>\n",
       "      <td>12456</td>\n",
       "      <td>Petrol</td>\n",
       "      <td>150</td>\n",
       "      <td>57.7</td>\n",
       "      <td>1.0</td>\n",
       "      <td>3</td>\n",
       "    </tr>\n",
       "    <tr>\n",
       "      <th>3</th>\n",
       "      <td>Fiesta</td>\n",
       "      <td>17500</td>\n",
       "      <td>Manual</td>\n",
       "      <td>10460</td>\n",
       "      <td>Petrol</td>\n",
       "      <td>145</td>\n",
       "      <td>40.3</td>\n",
       "      <td>1.5</td>\n",
       "      <td>1</td>\n",
       "    </tr>\n",
       "    <tr>\n",
       "      <th>4</th>\n",
       "      <td>Fiesta</td>\n",
       "      <td>16500</td>\n",
       "      <td>Automatic</td>\n",
       "      <td>1482</td>\n",
       "      <td>Petrol</td>\n",
       "      <td>145</td>\n",
       "      <td>48.7</td>\n",
       "      <td>1.0</td>\n",
       "      <td>1</td>\n",
       "    </tr>\n",
       "    <tr>\n",
       "      <th>...</th>\n",
       "      <td>...</td>\n",
       "      <td>...</td>\n",
       "      <td>...</td>\n",
       "      <td>...</td>\n",
       "      <td>...</td>\n",
       "      <td>...</td>\n",
       "      <td>...</td>\n",
       "      <td>...</td>\n",
       "      <td>...</td>\n",
       "    </tr>\n",
       "    <tr>\n",
       "      <th>17805</th>\n",
       "      <td>Fiesta</td>\n",
       "      <td>7999</td>\n",
       "      <td>Manual</td>\n",
       "      <td>31348</td>\n",
       "      <td>Petrol</td>\n",
       "      <td>125</td>\n",
       "      <td>54.3</td>\n",
       "      <td>1.2</td>\n",
       "      <td>4</td>\n",
       "    </tr>\n",
       "    <tr>\n",
       "      <th>17806</th>\n",
       "      <td>B-MAX</td>\n",
       "      <td>8999</td>\n",
       "      <td>Manual</td>\n",
       "      <td>16700</td>\n",
       "      <td>Petrol</td>\n",
       "      <td>150</td>\n",
       "      <td>47.1</td>\n",
       "      <td>1.4</td>\n",
       "      <td>3</td>\n",
       "    </tr>\n",
       "    <tr>\n",
       "      <th>17807</th>\n",
       "      <td>B-MAX</td>\n",
       "      <td>7499</td>\n",
       "      <td>Manual</td>\n",
       "      <td>40700</td>\n",
       "      <td>Petrol</td>\n",
       "      <td>30</td>\n",
       "      <td>57.7</td>\n",
       "      <td>1.0</td>\n",
       "      <td>6</td>\n",
       "    </tr>\n",
       "    <tr>\n",
       "      <th>17808</th>\n",
       "      <td>Focus</td>\n",
       "      <td>9999</td>\n",
       "      <td>Manual</td>\n",
       "      <td>7010</td>\n",
       "      <td>Diesel</td>\n",
       "      <td>20</td>\n",
       "      <td>67.3</td>\n",
       "      <td>1.6</td>\n",
       "      <td>5</td>\n",
       "    </tr>\n",
       "    <tr>\n",
       "      <th>17809</th>\n",
       "      <td>KA</td>\n",
       "      <td>8299</td>\n",
       "      <td>Manual</td>\n",
       "      <td>5007</td>\n",
       "      <td>Petrol</td>\n",
       "      <td>145</td>\n",
       "      <td>57.7</td>\n",
       "      <td>1.2</td>\n",
       "      <td>2</td>\n",
       "    </tr>\n",
       "  </tbody>\n",
       "</table>\n",
       "<p>17810 rows × 9 columns</p>\n",
       "</div>"
      ],
      "text/plain": [
       "         model  price transmission  mileage fuelType  tax   mpg  engineSize  \\\n",
       "0       Fiesta  12000    Automatic    15944   Petrol  150  57.7         1.0   \n",
       "1        Focus  14000       Manual     9083   Petrol  150  57.7         1.0   \n",
       "2        Focus  13000       Manual    12456   Petrol  150  57.7         1.0   \n",
       "3       Fiesta  17500       Manual    10460   Petrol  145  40.3         1.5   \n",
       "4       Fiesta  16500    Automatic     1482   Petrol  145  48.7         1.0   \n",
       "...        ...    ...          ...      ...      ...  ...   ...         ...   \n",
       "17805   Fiesta   7999       Manual    31348   Petrol  125  54.3         1.2   \n",
       "17806    B-MAX   8999       Manual    16700   Petrol  150  47.1         1.4   \n",
       "17807    B-MAX   7499       Manual    40700   Petrol   30  57.7         1.0   \n",
       "17808    Focus   9999       Manual     7010   Diesel   20  67.3         1.6   \n",
       "17809       KA   8299       Manual     5007   Petrol  145  57.7         1.2   \n",
       "\n",
       "       age  \n",
       "0        3  \n",
       "1        2  \n",
       "2        3  \n",
       "3        1  \n",
       "4        1  \n",
       "...    ...  \n",
       "17805    4  \n",
       "17806    3  \n",
       "17807    6  \n",
       "17808    5  \n",
       "17809    2  \n",
       "\n",
       "[17810 rows x 9 columns]"
      ]
     },
     "execution_count": 14,
     "metadata": {},
     "output_type": "execute_result"
    }
   ],
   "source": [
    "# lets replace 'year' column with 'age' column and drop 'year'. data collected in 2020, so age is calculated from 2020\n",
    "data['age']=2020-data['year']\n",
    "data.drop(['year'],axis=1,inplace=True)\n",
    "data\n",
    "\n"
   ]
  },
  {
   "cell_type": "code",
   "execution_count": 15,
   "id": "f36564c3",
   "metadata": {},
   "outputs": [],
   "source": [
    "X=data.drop(['price'],axis=1)\n",
    "Y=data.price"
   ]
  },
  {
   "cell_type": "code",
   "execution_count": 16,
   "id": "ec8c7dd3",
   "metadata": {},
   "outputs": [],
   "source": [
    "# Next split the data in train and test data sets\n",
    "from sklearn.model_selection import train_test_split\n",
    "train,test=train_test_split(data,test_size=0.3,random_state=42)"
   ]
  },
  {
   "cell_type": "code",
   "execution_count": 17,
   "id": "a92feb7e",
   "metadata": {},
   "outputs": [
    {
     "name": "stdout",
     "output_type": "stream",
     "text": [
      "Categorical columns: ['model', 'transmission', 'fuelType']\n",
      "Numerical columns: ['price', 'mileage', 'tax', 'mpg', 'engineSize', 'age']\n"
     ]
    }
   ],
   "source": [
    "# Determine columns by data types in train set\n",
    "\n",
    "cat_mask=train.dtypes==np.object\n",
    "cat_cols=train.columns[cat_mask].to_list()\n",
    "print('Categorical columns:', cat_cols)\n",
    "\n",
    "num_mask=(train.dtypes==np.float64) | (train.dtypes==np.int64)\n",
    "num_cols=train.columns[num_mask].to_list()\n",
    "print('Numerical columns:', num_cols)"
   ]
  },
  {
   "cell_type": "markdown",
   "id": "992999f3",
   "metadata": {},
   "source": [
    "### Determining Normality of target variable"
   ]
  },
  {
   "cell_type": "markdown",
   "id": "09ed51f1",
   "metadata": {},
   "source": [
    "Making our target variable normally distributed often will lead to better results\n",
    "\n",
    "If our target is not normally distributed, we can apply a transformation to it (log,square root,boxcox) and then fit our regression to predict the transformed values.\n",
    "\n",
    "How can we tell if our target is normally distributed? There are two ways:\n",
    "\n",
    "* Visually\n",
    "* Using a statistical test"
   ]
  },
  {
   "cell_type": "code",
   "execution_count": 18,
   "id": "222f5fd5",
   "metadata": {},
   "outputs": [
    {
     "data": {
      "text/plain": [
       "<AxesSubplot:>"
      ]
     },
     "execution_count": 18,
     "metadata": {},
     "output_type": "execute_result"
    },
    {
     "data": {
      "image/png": "[encoded data removed]",
      "text/plain": [
       "<Figure size 432x288 with 1 Axes>"
      ]
     },
     "metadata": {
      "needs_background": "light"
     },
     "output_type": "display_data"
    }
   ],
   "source": [
    "# Visually\n",
    "Y.hist()"
   ]
  },
  {
   "cell_type": "markdown",
   "id": "6246a40c",
   "metadata": {},
   "source": [
    "Looks normal distribution. But lets try als statistical test as well"
   ]
  },
  {
   "cell_type": "code",
   "execution_count": 19,
   "id": "8d25ebd2",
   "metadata": {},
   "outputs": [],
   "source": [
    "from scipy.stats.mstats import normaltest "
   ]
  },
  {
   "cell_type": "markdown",
   "id": "079de04d",
   "metadata": {},
   "source": [
    "Without getting into Bayesian vs. frequentist debates, for the purposes of this lesson, the following will suffice:\n",
    "\n",
    "* This is a statistical test that tests whether a distribution is normally distributed or not. It isn't perfect, but suffice it to say: \n",
    "    * This test outputs a \"p-value\". The _higher_ this p-value is the _closer_ the distribution is to normal.\n",
    "    * Frequentist statisticians would say that you accept that the distribution is normal (more specifically: fail to reject the null hypothesis that it is normal) if p > 0.05."
   ]
  },
  {
   "cell_type": "code",
   "execution_count": 20,
   "id": "e1d0f978",
   "metadata": {},
   "outputs": [
    {
     "data": {
      "text/plain": [
       "NormaltestResult(statistic=3788.026421979386, pvalue=0.0)"
      ]
     },
     "execution_count": 20,
     "metadata": {},
     "output_type": "execute_result"
    }
   ],
   "source": [
    "normaltest(Y.values)"
   ]
  },
  {
   "cell_type": "markdown",
   "id": "8df71374",
   "metadata": {},
   "source": [
    "pvalue=0. so normal distribution. no need any transformation on target variable"
   ]
  },
  {
   "cell_type": "markdown",
   "id": "d162b491",
   "metadata": {},
   "source": [
    "### One-hot Encoding"
   ]
  },
  {
   "cell_type": "markdown",
   "id": "9598326f",
   "metadata": {},
   "source": [
    "Create a list of categorial data and one-hot encode. Pandas one-hot encoder (get_dummies) works well with data that is defined as a categorical."
   ]
  },
  {
   "cell_type": "code",
   "execution_count": 21,
   "id": "da624fe4",
   "metadata": {},
   "outputs": [
    {
     "data": {
      "text/plain": [
       "Index(['price', 'mileage', 'tax', 'mpg', 'engineSize', 'age', 'model_ C-MAX',\n",
       "       'model_ EcoSport', 'model_ Edge', 'model_ Escort', 'model_ Fiesta',\n",
       "       'model_ Focus', 'model_ Fusion', 'model_ Galaxy', 'model_ Grand C-MAX',\n",
       "       'model_ Grand Tourneo Connect', 'model_ KA', 'model_ Ka+',\n",
       "       'model_ Kuga', 'model_ Mondeo', 'model_ Mustang', 'model_ Puma',\n",
       "       'model_ Ranger', 'model_ S-MAX', 'model_ Streetka',\n",
       "       'model_ Tourneo Connect', 'model_ Tourneo Custom',\n",
       "       'model_ Transit Tourneo', 'transmission_Manual',\n",
       "       'transmission_Semi-Auto', 'fuelType_Electric', 'fuelType_Hybrid',\n",
       "       'fuelType_Other', 'fuelType_Petrol'],\n",
       "      dtype='object')"
      ]
     },
     "execution_count": 21,
     "metadata": {},
     "output_type": "execute_result"
    }
   ],
   "source": [
    "data_ohc=pd.get_dummies(data,drop_first=True) #by default this will convert any columns that are of type object\n",
    "data_ohc.columns"
   ]
  },
  {
   "cell_type": "code",
   "execution_count": 22,
   "id": "0ba9c1c5",
   "metadata": {},
   "outputs": [
    {
     "data": {
      "text/html": [
       "<div>\n",
       "<style scoped>\n",
       "    .dataframe tbody tr th:only-of-type {\n",
       "        vertical-align: middle;\n",
       "    }\n",
       "\n",
       "    .dataframe tbody tr th {\n",
       "        vertical-align: top;\n",
       "    }\n",
       "\n",
       "    .dataframe thead th {\n",
       "        text-align: right;\n",
       "    }\n",
       "</style>\n",
       "<table border=\"1\" class=\"dataframe\">\n",
       "  <thead>\n",
       "    <tr style=\"text-align: right;\">\n",
       "      <th></th>\n",
       "      <th>price</th>\n",
       "      <th>mileage</th>\n",
       "      <th>tax</th>\n",
       "      <th>mpg</th>\n",
       "      <th>engineSize</th>\n",
       "      <th>age</th>\n",
       "      <th>model_ C-MAX</th>\n",
       "      <th>model_ EcoSport</th>\n",
       "      <th>model_ Edge</th>\n",
       "      <th>model_ Escort</th>\n",
       "      <th>...</th>\n",
       "      <th>model_ Streetka</th>\n",
       "      <th>model_ Tourneo Connect</th>\n",
       "      <th>model_ Tourneo Custom</th>\n",
       "      <th>model_ Transit Tourneo</th>\n",
       "      <th>transmission_Manual</th>\n",
       "      <th>transmission_Semi-Auto</th>\n",
       "      <th>fuelType_Electric</th>\n",
       "      <th>fuelType_Hybrid</th>\n",
       "      <th>fuelType_Other</th>\n",
       "      <th>fuelType_Petrol</th>\n",
       "    </tr>\n",
       "  </thead>\n",
       "  <tbody>\n",
       "    <tr>\n",
       "      <th>0</th>\n",
       "      <td>12000</td>\n",
       "      <td>15944</td>\n",
       "      <td>150</td>\n",
       "      <td>57.7</td>\n",
       "      <td>1.0</td>\n",
       "      <td>3</td>\n",
       "      <td>0</td>\n",
       "      <td>0</td>\n",
       "      <td>0</td>\n",
       "      <td>0</td>\n",
       "      <td>...</td>\n",
       "      <td>0</td>\n",
       "      <td>0</td>\n",
       "      <td>0</td>\n",
       "      <td>0</td>\n",
       "      <td>0</td>\n",
       "      <td>0</td>\n",
       "      <td>0</td>\n",
       "      <td>0</td>\n",
       "      <td>0</td>\n",
       "      <td>1</td>\n",
       "    </tr>\n",
       "    <tr>\n",
       "      <th>1</th>\n",
       "      <td>14000</td>\n",
       "      <td>9083</td>\n",
       "      <td>150</td>\n",
       "      <td>57.7</td>\n",
       "      <td>1.0</td>\n",
       "      <td>2</td>\n",
       "      <td>0</td>\n",
       "      <td>0</td>\n",
       "      <td>0</td>\n",
       "      <td>0</td>\n",
       "      <td>...</td>\n",
       "      <td>0</td>\n",
       "      <td>0</td>\n",
       "      <td>0</td>\n",
       "      <td>0</td>\n",
       "      <td>1</td>\n",
       "      <td>0</td>\n",
       "      <td>0</td>\n",
       "      <td>0</td>\n",
       "      <td>0</td>\n",
       "      <td>1</td>\n",
       "    </tr>\n",
       "    <tr>\n",
       "      <th>2</th>\n",
       "      <td>13000</td>\n",
       "      <td>12456</td>\n",
       "      <td>150</td>\n",
       "      <td>57.7</td>\n",
       "      <td>1.0</td>\n",
       "      <td>3</td>\n",
       "      <td>0</td>\n",
       "      <td>0</td>\n",
       "      <td>0</td>\n",
       "      <td>0</td>\n",
       "      <td>...</td>\n",
       "      <td>0</td>\n",
       "      <td>0</td>\n",
       "      <td>0</td>\n",
       "      <td>0</td>\n",
       "      <td>1</td>\n",
       "      <td>0</td>\n",
       "      <td>0</td>\n",
       "      <td>0</td>\n",
       "      <td>0</td>\n",
       "      <td>1</td>\n",
       "    </tr>\n",
       "    <tr>\n",
       "      <th>3</th>\n",
       "      <td>17500</td>\n",
       "      <td>10460</td>\n",
       "      <td>145</td>\n",
       "      <td>40.3</td>\n",
       "      <td>1.5</td>\n",
       "      <td>1</td>\n",
       "      <td>0</td>\n",
       "      <td>0</td>\n",
       "      <td>0</td>\n",
       "      <td>0</td>\n",
       "      <td>...</td>\n",
       "      <td>0</td>\n",
       "      <td>0</td>\n",
       "      <td>0</td>\n",
       "      <td>0</td>\n",
       "      <td>1</td>\n",
       "      <td>0</td>\n",
       "      <td>0</td>\n",
       "      <td>0</td>\n",
       "      <td>0</td>\n",
       "      <td>1</td>\n",
       "    </tr>\n",
       "    <tr>\n",
       "      <th>4</th>\n",
       "      <td>16500</td>\n",
       "      <td>1482</td>\n",
       "      <td>145</td>\n",
       "      <td>48.7</td>\n",
       "      <td>1.0</td>\n",
       "      <td>1</td>\n",
       "      <td>0</td>\n",
       "      <td>0</td>\n",
       "      <td>0</td>\n",
       "      <td>0</td>\n",
       "      <td>...</td>\n",
       "      <td>0</td>\n",
       "      <td>0</td>\n",
       "      <td>0</td>\n",
       "      <td>0</td>\n",
       "      <td>0</td>\n",
       "      <td>0</td>\n",
       "      <td>0</td>\n",
       "      <td>0</td>\n",
       "      <td>0</td>\n",
       "      <td>1</td>\n",
       "    </tr>\n",
       "    <tr>\n",
       "      <th>...</th>\n",
       "      <td>...</td>\n",
       "      <td>...</td>\n",
       "      <td>...</td>\n",
       "      <td>...</td>\n",
       "      <td>...</td>\n",
       "      <td>...</td>\n",
       "      <td>...</td>\n",
       "      <td>...</td>\n",
       "      <td>...</td>\n",
       "      <td>...</td>\n",
       "      <td>...</td>\n",
       "      <td>...</td>\n",
       "      <td>...</td>\n",
       "      <td>...</td>\n",
       "      <td>...</td>\n",
       "      <td>...</td>\n",
       "      <td>...</td>\n",
       "      <td>...</td>\n",
       "      <td>...</td>\n",
       "      <td>...</td>\n",
       "      <td>...</td>\n",
       "    </tr>\n",
       "    <tr>\n",
       "      <th>17805</th>\n",
       "      <td>7999</td>\n",
       "      <td>31348</td>\n",
       "      <td>125</td>\n",
       "      <td>54.3</td>\n",
       "      <td>1.2</td>\n",
       "      <td>4</td>\n",
       "      <td>0</td>\n",
       "      <td>0</td>\n",
       "      <td>0</td>\n",
       "      <td>0</td>\n",
       "      <td>...</td>\n",
       "      <td>0</td>\n",
       "      <td>0</td>\n",
       "      <td>0</td>\n",
       "      <td>0</td>\n",
       "      <td>1</td>\n",
       "      <td>0</td>\n",
       "      <td>0</td>\n",
       "      <td>0</td>\n",
       "      <td>0</td>\n",
       "      <td>1</td>\n",
       "    </tr>\n",
       "    <tr>\n",
       "      <th>17806</th>\n",
       "      <td>8999</td>\n",
       "      <td>16700</td>\n",
       "      <td>150</td>\n",
       "      <td>47.1</td>\n",
       "      <td>1.4</td>\n",
       "      <td>3</td>\n",
       "      <td>0</td>\n",
       "      <td>0</td>\n",
       "      <td>0</td>\n",
       "      <td>0</td>\n",
       "      <td>...</td>\n",
       "      <td>0</td>\n",
       "      <td>0</td>\n",
       "      <td>0</td>\n",
       "      <td>0</td>\n",
       "      <td>1</td>\n",
       "      <td>0</td>\n",
       "      <td>0</td>\n",
       "      <td>0</td>\n",
       "      <td>0</td>\n",
       "      <td>1</td>\n",
       "    </tr>\n",
       "    <tr>\n",
       "      <th>17807</th>\n",
       "      <td>7499</td>\n",
       "      <td>40700</td>\n",
       "      <td>30</td>\n",
       "      <td>57.7</td>\n",
       "      <td>1.0</td>\n",
       "      <td>6</td>\n",
       "      <td>0</td>\n",
       "      <td>0</td>\n",
       "      <td>0</td>\n",
       "      <td>0</td>\n",
       "      <td>...</td>\n",
       "      <td>0</td>\n",
       "      <td>0</td>\n",
       "      <td>0</td>\n",
       "      <td>0</td>\n",
       "      <td>1</td>\n",
       "      <td>0</td>\n",
       "      <td>0</td>\n",
       "      <td>0</td>\n",
       "      <td>0</td>\n",
       "      <td>1</td>\n",
       "    </tr>\n",
       "    <tr>\n",
       "      <th>17808</th>\n",
       "      <td>9999</td>\n",
       "      <td>7010</td>\n",
       "      <td>20</td>\n",
       "      <td>67.3</td>\n",
       "      <td>1.6</td>\n",
       "      <td>5</td>\n",
       "      <td>0</td>\n",
       "      <td>0</td>\n",
       "      <td>0</td>\n",
       "      <td>0</td>\n",
       "      <td>...</td>\n",
       "      <td>0</td>\n",
       "      <td>0</td>\n",
       "      <td>0</td>\n",
       "      <td>0</td>\n",
       "      <td>1</td>\n",
       "      <td>0</td>\n",
       "      <td>0</td>\n",
       "      <td>0</td>\n",
       "      <td>0</td>\n",
       "      <td>0</td>\n",
       "    </tr>\n",
       "    <tr>\n",
       "      <th>17809</th>\n",
       "      <td>8299</td>\n",
       "      <td>5007</td>\n",
       "      <td>145</td>\n",
       "      <td>57.7</td>\n",
       "      <td>1.2</td>\n",
       "      <td>2</td>\n",
       "      <td>0</td>\n",
       "      <td>0</td>\n",
       "      <td>0</td>\n",
       "      <td>0</td>\n",
       "      <td>...</td>\n",
       "      <td>0</td>\n",
       "      <td>0</td>\n",
       "      <td>0</td>\n",
       "      <td>0</td>\n",
       "      <td>1</td>\n",
       "      <td>0</td>\n",
       "      <td>0</td>\n",
       "      <td>0</td>\n",
       "      <td>0</td>\n",
       "      <td>1</td>\n",
       "    </tr>\n",
       "  </tbody>\n",
       "</table>\n",
       "<p>17810 rows × 34 columns</p>\n",
       "</div>"
      ],
      "text/plain": [
       "       price  mileage  tax   mpg  engineSize  age  model_ C-MAX  \\\n",
       "0      12000    15944  150  57.7         1.0    3             0   \n",
       "1      14000     9083  150  57.7         1.0    2             0   \n",
       "2      13000    12456  150  57.7         1.0    3             0   \n",
       "3      17500    10460  145  40.3         1.5    1             0   \n",
       "4      16500     1482  145  48.7         1.0    1             0   \n",
       "...      ...      ...  ...   ...         ...  ...           ...   \n",
       "17805   7999    31348  125  54.3         1.2    4             0   \n",
       "17806   8999    16700  150  47.1         1.4    3             0   \n",
       "17807   7499    40700   30  57.7         1.0    6             0   \n",
       "17808   9999     7010   20  67.3         1.6    5             0   \n",
       "17809   8299     5007  145  57.7         1.2    2             0   \n",
       "\n",
       "       model_ EcoSport  model_ Edge  model_ Escort  ...  model_ Streetka  \\\n",
       "0                    0            0              0  ...                0   \n",
       "1                    0            0              0  ...                0   \n",
       "2                    0            0              0  ...                0   \n",
       "3                    0            0              0  ...                0   \n",
       "4                    0            0              0  ...                0   \n",
       "...                ...          ...            ...  ...              ...   \n",
       "17805                0            0              0  ...                0   \n",
       "17806                0            0              0  ...                0   \n",
       "17807                0            0              0  ...                0   \n",
       "17808                0            0              0  ...                0   \n",
       "17809                0            0              0  ...                0   \n",
       "\n",
       "       model_ Tourneo Connect  model_ Tourneo Custom  model_ Transit Tourneo  \\\n",
       "0                           0                      0                       0   \n",
       "1                           0                      0                       0   \n",
       "2                           0                      0                       0   \n",
       "3                           0                      0                       0   \n",
       "4                           0                      0                       0   \n",
       "...                       ...                    ...                     ...   \n",
       "17805                       0                      0                       0   \n",
       "17806                       0                      0                       0   \n",
       "17807                       0                      0                       0   \n",
       "17808                       0                      0                       0   \n",
       "17809                       0                      0                       0   \n",
       "\n",
       "       transmission_Manual  transmission_Semi-Auto  fuelType_Electric  \\\n",
       "0                        0                       0                  0   \n",
       "1                        1                       0                  0   \n",
       "2                        1                       0                  0   \n",
       "3                        1                       0                  0   \n",
       "4                        0                       0                  0   \n",
       "...                    ...                     ...                ...   \n",
       "17805                    1                       0                  0   \n",
       "17806                    1                       0                  0   \n",
       "17807                    1                       0                  0   \n",
       "17808                    1                       0                  0   \n",
       "17809                    1                       0                  0   \n",
       "\n",
       "       fuelType_Hybrid  fuelType_Other  fuelType_Petrol  \n",
       "0                    0               0                1  \n",
       "1                    0               0                1  \n",
       "2                    0               0                1  \n",
       "3                    0               0                1  \n",
       "4                    0               0                1  \n",
       "...                ...             ...              ...  \n",
       "17805                0               0                1  \n",
       "17806                0               0                1  \n",
       "17807                0               0                1  \n",
       "17808                0               0                0  \n",
       "17809                0               0                1  \n",
       "\n",
       "[17810 rows x 34 columns]"
      ]
     },
     "execution_count": 22,
     "metadata": {},
     "output_type": "execute_result"
    }
   ],
   "source": [
    "data_ohc"
   ]
  },
  {
   "cell_type": "code",
   "execution_count": 23,
   "id": "d5acce25",
   "metadata": {},
   "outputs": [],
   "source": [
    "X_ohc=data_ohc.drop(['price'],axis=1)\n",
    "Y_ohc=data_ohc.price"
   ]
  },
  {
   "cell_type": "code",
   "execution_count": 24,
   "id": "6dbadea0",
   "metadata": {},
   "outputs": [],
   "source": [
    "# Next split the data in train and test data sets\n",
    "from sklearn.model_selection import train_test_split\n",
    "train_ohc,test_ohc=train_test_split(data_ohc,test_size=0.3,random_state=42)"
   ]
  },
  {
   "cell_type": "markdown",
   "id": "5dc3cb44",
   "metadata": {},
   "source": [
    "### Determing Skewed Features"
   ]
  },
  {
   "cell_type": "code",
   "execution_count": 25,
   "id": "2dd44055",
   "metadata": {},
   "outputs": [
    {
     "data": {
      "image/png": "[encoded data removed]",
      "text/plain": [
       "<Figure size 1080x576 with 6 Axes>"
      ]
     },
     "metadata": {
      "needs_background": "light"
     },
     "output_type": "display_data"
    }
   ],
   "source": [
    "# Plot histogram of all numerical features. since we have total 6 columns of numerical values: \n",
    "fig,axes=plt.subplots(2,3,figsize=(15,8))\n",
    "for i,ax in enumerate(axes.flatten()):\n",
    "    train_ohc[train_ohc[num_cols].columns[i]].plot.hist(bins=30,ax=ax)\n",
    "    ax.set_title(train_ohc[num_cols].columns[i])\n",
    "    ax.get_yaxis().get_label().set_visible(False)"
   ]
  },
  {
   "cell_type": "code",
   "execution_count": 26,
   "id": "8bf4c632",
   "metadata": {},
   "outputs": [
    {
     "data": {
      "text/html": [
       "<div>\n",
       "<style scoped>\n",
       "    .dataframe tbody tr th:only-of-type {\n",
       "        vertical-align: middle;\n",
       "    }\n",
       "\n",
       "    .dataframe tbody tr th {\n",
       "        vertical-align: top;\n",
       "    }\n",
       "\n",
       "    .dataframe thead th {\n",
       "        text-align: right;\n",
       "    }\n",
       "</style>\n",
       "<table border=\"1\" class=\"dataframe\">\n",
       "  <thead>\n",
       "    <tr style=\"text-align: right;\">\n",
       "      <th></th>\n",
       "      <th>Train_Skew</th>\n",
       "    </tr>\n",
       "  </thead>\n",
       "  <tbody>\n",
       "    <tr>\n",
       "      <th>age</th>\n",
       "      <td>1.861308</td>\n",
       "    </tr>\n",
       "    <tr>\n",
       "      <th>mileage</th>\n",
       "      <td>1.823722</td>\n",
       "    </tr>\n",
       "    <tr>\n",
       "      <th>engineSize</th>\n",
       "      <td>1.806635</td>\n",
       "    </tr>\n",
       "    <tr>\n",
       "      <th>price</th>\n",
       "      <td>1.143463</td>\n",
       "    </tr>\n",
       "  </tbody>\n",
       "</table>\n",
       "</div>"
      ],
      "text/plain": [
       "            Train_Skew\n",
       "age           1.861308\n",
       "mileage       1.823722\n",
       "engineSize    1.806635\n",
       "price         1.143463"
      ]
     },
     "execution_count": 26,
     "metadata": {},
     "output_type": "execute_result"
    }
   ],
   "source": [
    "# create a list of columns that are not one hot encoded\n",
    "skew_limit=0.75\n",
    "\n",
    "skew_vals=train_ohc[num_cols].skew()\n",
    "skew_cols=(skew_vals[skew_vals>skew_limit].sort_values(ascending=False).to_frame('Train_Skew'))\n",
    "skew_cols # all variables whose skew>0.75\n",
    "\n"
   ]
  },
  {
   "cell_type": "code",
   "execution_count": 27,
   "id": "1f36013a",
   "metadata": {},
   "outputs": [
    {
     "data": {
      "text/html": [
       "<div>\n",
       "<style scoped>\n",
       "    .dataframe tbody tr th:only-of-type {\n",
       "        vertical-align: middle;\n",
       "    }\n",
       "\n",
       "    .dataframe tbody tr th {\n",
       "        vertical-align: top;\n",
       "    }\n",
       "\n",
       "    .dataframe thead th {\n",
       "        text-align: right;\n",
       "    }\n",
       "</style>\n",
       "<table border=\"1\" class=\"dataframe\">\n",
       "  <thead>\n",
       "    <tr style=\"text-align: right;\">\n",
       "      <th></th>\n",
       "      <th>Test_Skew</th>\n",
       "    </tr>\n",
       "  </thead>\n",
       "  <tbody>\n",
       "    <tr>\n",
       "      <th>engineSize</th>\n",
       "      <td>2.102190</td>\n",
       "    </tr>\n",
       "    <tr>\n",
       "      <th>age</th>\n",
       "      <td>1.884772</td>\n",
       "    </tr>\n",
       "    <tr>\n",
       "      <th>mileage</th>\n",
       "      <td>1.843429</td>\n",
       "    </tr>\n",
       "    <tr>\n",
       "      <th>price</th>\n",
       "      <td>0.984616</td>\n",
       "    </tr>\n",
       "  </tbody>\n",
       "</table>\n",
       "</div>"
      ],
      "text/plain": [
       "            Test_Skew\n",
       "engineSize   2.102190\n",
       "age          1.884772\n",
       "mileage      1.843429\n",
       "price        0.984616"
      ]
     },
     "execution_count": 27,
     "metadata": {},
     "output_type": "execute_result"
    }
   ],
   "source": [
    "# create a list of columns that are not one hot encoded\n",
    "skew_limit=0.75\n",
    "\n",
    "skew_vals_test=test_ohc[num_cols].skew()\n",
    "skew_cols_test=(skew_vals_test[skew_vals_test>skew_limit].sort_values(ascending=False).to_frame('Test_Skew'))\n",
    "skew_cols_test # all variables whose skew>0.75\n",
    "\n"
   ]
  },
  {
   "cell_type": "markdown",
   "id": "86c80452",
   "metadata": {},
   "source": [
    "Transform all the columns where the skew is greater than 0.75, excluding \"Price\"."
   ]
  },
  {
   "cell_type": "code",
   "execution_count": 28,
   "id": "bf37c8fc",
   "metadata": {},
   "outputs": [],
   "source": [
    "# Apply sqrt transformation on predictors only\n",
    "for col in skew_cols.index.tolist():\n",
    "    if col == \"price\":\n",
    "        continue\n",
    "    #train[col] = np.log1p(train[col])\n",
    "    train_ohc[col] = np.sqrt(train_ohc[col])\n",
    "    test_ohc[col]= np.sqrt(test_ohc[col])"
   ]
  },
  {
   "cell_type": "code",
   "execution_count": 29,
   "id": "1e58732b",
   "metadata": {
    "scrolled": false
   },
   "outputs": [
    {
     "data": {
      "image/png": "[encoded data removed]",
      "text/plain": [
       "<Figure size 1080x576 with 6 Axes>"
      ]
     },
     "metadata": {
      "needs_background": "light"
     },
     "output_type": "display_data"
    }
   ],
   "source": [
    "# Histogram plot after sqrt transformations\n",
    "fig,axes=plt.subplots(2,3,figsize=(15,8))\n",
    "for i,ax in enumerate(axes.flatten()):\n",
    "    train_ohc[train_ohc[num_cols].columns[i]].plot.hist(bins=30,ax=ax)\n",
    "    ax.set_title(train_ohc[num_cols].columns[i])\n",
    "    ax.get_yaxis().get_label().set_visible(False)"
   ]
  },
  {
   "cell_type": "code",
   "execution_count": 30,
   "id": "edb40f41",
   "metadata": {},
   "outputs": [
    {
     "data": {
      "text/html": [
       "<div>\n",
       "<style scoped>\n",
       "    .dataframe tbody tr th:only-of-type {\n",
       "        vertical-align: middle;\n",
       "    }\n",
       "\n",
       "    .dataframe tbody tr th {\n",
       "        vertical-align: top;\n",
       "    }\n",
       "\n",
       "    .dataframe thead th {\n",
       "        text-align: right;\n",
       "    }\n",
       "</style>\n",
       "<table border=\"1\" class=\"dataframe\">\n",
       "  <thead>\n",
       "    <tr style=\"text-align: right;\">\n",
       "      <th></th>\n",
       "      <th>Train_Skew</th>\n",
       "    </tr>\n",
       "  </thead>\n",
       "  <tbody>\n",
       "    <tr>\n",
       "      <th>price</th>\n",
       "      <td>1.143463</td>\n",
       "    </tr>\n",
       "    <tr>\n",
       "      <th>mpg</th>\n",
       "      <td>0.716861</td>\n",
       "    </tr>\n",
       "    <tr>\n",
       "      <th>mileage</th>\n",
       "      <td>0.477056</td>\n",
       "    </tr>\n",
       "    <tr>\n",
       "      <th>age</th>\n",
       "      <td>0.319815</td>\n",
       "    </tr>\n",
       "    <tr>\n",
       "      <th>engineSize</th>\n",
       "      <td>0.233153</td>\n",
       "    </tr>\n",
       "    <tr>\n",
       "      <th>tax</th>\n",
       "      <td>-0.594362</td>\n",
       "    </tr>\n",
       "  </tbody>\n",
       "</table>\n",
       "</div>"
      ],
      "text/plain": [
       "            Train_Skew\n",
       "price         1.143463\n",
       "mpg           0.716861\n",
       "mileage       0.477056\n",
       "age           0.319815\n",
       "engineSize    0.233153\n",
       "tax          -0.594362"
      ]
     },
     "execution_count": 30,
     "metadata": {},
     "output_type": "execute_result"
    }
   ],
   "source": [
    "\n",
    "skew_vals_test=train_ohc[num_cols].skew()\n",
    "skew_vals_test.sort_values(ascending=False).to_frame('Train_Skew')"
   ]
  },
  {
   "cell_type": "code",
   "execution_count": 31,
   "id": "4503586b",
   "metadata": {},
   "outputs": [
    {
     "data": {
      "text/html": [
       "<div>\n",
       "<style scoped>\n",
       "    .dataframe tbody tr th:only-of-type {\n",
       "        vertical-align: middle;\n",
       "    }\n",
       "\n",
       "    .dataframe tbody tr th {\n",
       "        vertical-align: top;\n",
       "    }\n",
       "\n",
       "    .dataframe thead th {\n",
       "        text-align: right;\n",
       "    }\n",
       "</style>\n",
       "<table border=\"1\" class=\"dataframe\">\n",
       "  <thead>\n",
       "    <tr style=\"text-align: right;\">\n",
       "      <th></th>\n",
       "      <th>Test_Skew</th>\n",
       "    </tr>\n",
       "  </thead>\n",
       "  <tbody>\n",
       "    <tr>\n",
       "      <th>price</th>\n",
       "      <td>0.984616</td>\n",
       "    </tr>\n",
       "    <tr>\n",
       "      <th>mileage</th>\n",
       "      <td>0.486235</td>\n",
       "    </tr>\n",
       "    <tr>\n",
       "      <th>mpg</th>\n",
       "      <td>0.345026</td>\n",
       "    </tr>\n",
       "    <tr>\n",
       "      <th>age</th>\n",
       "      <td>0.320344</td>\n",
       "    </tr>\n",
       "    <tr>\n",
       "      <th>engineSize</th>\n",
       "      <td>0.273678</td>\n",
       "    </tr>\n",
       "    <tr>\n",
       "      <th>tax</th>\n",
       "      <td>-0.482870</td>\n",
       "    </tr>\n",
       "  </tbody>\n",
       "</table>\n",
       "</div>"
      ],
      "text/plain": [
       "            Test_Skew\n",
       "price        0.984616\n",
       "mileage      0.486235\n",
       "mpg          0.345026\n",
       "age          0.320344\n",
       "engineSize   0.273678\n",
       "tax         -0.482870"
      ]
     },
     "execution_count": 31,
     "metadata": {},
     "output_type": "execute_result"
    }
   ],
   "source": [
    "\n",
    "skew_vals_test=test_ohc[num_cols].skew()\n",
    "skew_vals_test.sort_values(ascending=False).to_frame('Test_Skew')\n"
   ]
  },
  {
   "cell_type": "code",
   "execution_count": 32,
   "id": "23fd61ef",
   "metadata": {},
   "outputs": [],
   "source": [
    "# let reset indexes\n",
    "train_ohc.reset_index(drop=True,inplace=True)\n",
    "test_ohc.reset_index(drop=True,inplace=True)"
   ]
  },
  {
   "cell_type": "code",
   "execution_count": 33,
   "id": "0d44a750",
   "metadata": {},
   "outputs": [
    {
     "data": {
      "image/png": "[encoded data removed]",
      "text/plain": [
       "<Figure size 1080x1080 with 42 Axes>"
      ]
     },
     "metadata": {
      "needs_background": "light"
     },
     "output_type": "display_data"
    }
   ],
   "source": [
    "# Skewness is fixed. Let's use a pairplot to have an overview of these features and the target.\n",
    "\n",
    "sns.pairplot(train_ohc[num_cols], plot_kws=dict(alpha=.2, edgecolor='none'));"
   ]
  },
  {
   "cell_type": "markdown",
   "id": "36424c70",
   "metadata": {},
   "source": [
    "This plot shows that:\n",
    "- age has a linear relationship with price. It looks quite like polynomial. \n",
    "- mileage also has linear relationship with price.\n",
    "- age also has a linear relationship with mileage (the older the more miles). This is multicollinearity.\n",
    "\n",
    "Let's see how severe the multicollinearity is."
   ]
  },
  {
   "cell_type": "code",
   "execution_count": 34,
   "id": "48161abf",
   "metadata": {},
   "outputs": [
    {
     "data": {
      "text/html": [
       "<div>\n",
       "<style scoped>\n",
       "    .dataframe tbody tr th:only-of-type {\n",
       "        vertical-align: middle;\n",
       "    }\n",
       "\n",
       "    .dataframe tbody tr th {\n",
       "        vertical-align: top;\n",
       "    }\n",
       "\n",
       "    .dataframe thead th {\n",
       "        text-align: right;\n",
       "    }\n",
       "</style>\n",
       "<table border=\"1\" class=\"dataframe\">\n",
       "  <thead>\n",
       "    <tr style=\"text-align: right;\">\n",
       "      <th></th>\n",
       "      <th>variables</th>\n",
       "      <th>VIF</th>\n",
       "    </tr>\n",
       "  </thead>\n",
       "  <tbody>\n",
       "    <tr>\n",
       "      <th>0</th>\n",
       "      <td>price</td>\n",
       "      <td>18.152675</td>\n",
       "    </tr>\n",
       "    <tr>\n",
       "      <th>1</th>\n",
       "      <td>mileage</td>\n",
       "      <td>13.452396</td>\n",
       "    </tr>\n",
       "    <tr>\n",
       "      <th>2</th>\n",
       "      <td>tax</td>\n",
       "      <td>5.270088</td>\n",
       "    </tr>\n",
       "    <tr>\n",
       "      <th>3</th>\n",
       "      <td>mpg</td>\n",
       "      <td>17.056853</td>\n",
       "    </tr>\n",
       "    <tr>\n",
       "      <th>4</th>\n",
       "      <td>engineSize</td>\n",
       "      <td>58.423127</td>\n",
       "    </tr>\n",
       "  </tbody>\n",
       "</table>\n",
       "</div>"
      ],
      "text/plain": [
       "    variables        VIF\n",
       "0       price  18.152675\n",
       "1     mileage  13.452396\n",
       "2         tax   5.270088\n",
       "3         mpg  17.056853\n",
       "4  engineSize  58.423127"
      ]
     },
     "execution_count": 34,
     "metadata": {},
     "output_type": "execute_result"
    }
   ],
   "source": [
    "from statsmodels.stats.outliers_influence import variance_inflation_factor\n",
    "\n",
    "def calc_vif(X):\n",
    "\n",
    "    # Calculating VIF\n",
    "    vif = pd.DataFrame()\n",
    "    vif[\"variables\"] = X.columns\n",
    "    vif[\"VIF\"] = [variance_inflation_factor(X.values, i) for i in range(X.shape[1])]\n",
    "\n",
    "    return(vif)\n",
    "\n",
    "a=train_ohc[num_cols][['price','mileage','tax','mpg','engineSize']]\n",
    "\n",
    "calc_vif(a)"
   ]
  },
  {
   "cell_type": "markdown",
   "id": "ead350c2",
   "metadata": {},
   "source": [
    "The features have high multicollinearity. This problem might be resolved by regularization later."
   ]
  },
  {
   "cell_type": "markdown",
   "id": "bff7e847",
   "metadata": {},
   "source": [
    "### Categorical Features"
   ]
  },
  {
   "cell_type": "code",
   "execution_count": 35,
   "id": "34d72635",
   "metadata": {},
   "outputs": [
    {
     "data": {
      "image/png": "[encoded data removed]",
      "text/plain": [
       "<Figure size 1080x576 with 1 Axes>"
      ]
     },
     "metadata": {
      "needs_background": "light"
     },
     "output_type": "display_data"
    }
   ],
   "source": [
    "fig, ax = plt.subplots(figsize=(15,8))\n",
    "order = sorted(list(data['model'].unique()))\n",
    "sns.boxplot(x='model', y='price', data=data, order=order, ax=ax)\n",
    "plt.xticks(rotation=45)\n",
    "plt.title('Price by Model', fontsize=16)\n",
    "plt.show()"
   ]
  },
  {
   "cell_type": "code",
   "execution_count": 36,
   "id": "cc9f6f2b",
   "metadata": {},
   "outputs": [
    {
     "data": {
      "image/png": "[encoded data removed]",
      "text/plain": [
       "<Figure size 1440x432 with 2 Axes>"
      ]
     },
     "metadata": {
      "needs_background": "light"
     },
     "output_type": "display_data"
    }
   ],
   "source": [
    "# Box plots of price and tranmission/ fuel type\n",
    "fig, ax = plt.subplots(1, 2, figsize=(20,6), sharey=True)\n",
    "order0 = sorted(list(data['transmission'].unique()))\n",
    "sns.boxplot(x='transmission', y='price', data=data, order=order0, ax=ax[0])\n",
    "ax[0].set_title('Price by Transmission', fontsize=16)\n",
    "ax[0].tick_params('x', labelrotation=45)\n",
    "\n",
    "order1 = sorted(list(data['fuelType'].unique()))\n",
    "sns.boxplot(x='fuelType', y='price', data=data, order=order1, ax=ax[1])\n",
    "ax[1].set_title('Price by Fuel Type', fontsize=16)\n",
    "ax[1].tick_params('x', labelrotation=45)\n",
    "plt.show()"
   ]
  },
  {
   "cell_type": "markdown",
   "id": "fbb9b218",
   "metadata": {},
   "source": [
    "# 2. Feature Engineering & Modelling "
   ]
  },
  {
   "cell_type": "code",
   "execution_count": 37,
   "id": "8e5de1b1",
   "metadata": {},
   "outputs": [],
   "source": [
    "# Lets separate features from target value\n",
    "features_cols=[x for x in train_ohc.columns if x!='price']\n",
    "\n",
    "X_train_ohc=train_ohc[features_cols]\n",
    "Y_train_ohc=train_ohc['price']\n",
    "\n",
    "X_test_ohc=test_ohc[features_cols]\n",
    "Y_test_ohc=test_ohc['price']\n"
   ]
  },
  {
   "cell_type": "markdown",
   "id": "3a5a3331",
   "metadata": {},
   "source": [
    "\n",
    "* Write a function **`rmse`** that takes in truth and prediction values and returns the root-mean-squared error. Use sklearn's `mean_squared_error`.  \n"
   ]
  },
  {
   "cell_type": "code",
   "execution_count": 38,
   "id": "e7d6d74d",
   "metadata": {},
   "outputs": [],
   "source": [
    "from sklearn.metrics import mean_squared_error\n",
    "\n",
    "\n",
    "def rmse(ytrue, ypredicted):\n",
    "    return np.sqrt(mean_squared_error(ytrue, ypredicted))"
   ]
  },
  {
   "cell_type": "markdown",
   "id": "e86c9f0f",
   "metadata": {},
   "source": [
    "### Plain Linear Regression Model without Scaling"
   ]
  },
  {
   "cell_type": "code",
   "execution_count": 39,
   "id": "4487f033",
   "metadata": {},
   "outputs": [
    {
     "data": {
      "text/html": [
       "<div>\n",
       "<style scoped>\n",
       "    .dataframe tbody tr th:only-of-type {\n",
       "        vertical-align: middle;\n",
       "    }\n",
       "\n",
       "    .dataframe tbody tr th {\n",
       "        vertical-align: top;\n",
       "    }\n",
       "\n",
       "    .dataframe thead th {\n",
       "        text-align: right;\n",
       "    }\n",
       "</style>\n",
       "<table border=\"1\" class=\"dataframe\">\n",
       "  <thead>\n",
       "    <tr style=\"text-align: right;\">\n",
       "      <th></th>\n",
       "      <th>Model</th>\n",
       "      <th>num_features</th>\n",
       "      <th>RMSE</th>\n",
       "      <th>R2_Score</th>\n",
       "    </tr>\n",
       "  </thead>\n",
       "  <tbody>\n",
       "    <tr>\n",
       "      <th>0</th>\n",
       "      <td>LR_ohc no scaling</td>\n",
       "      <td>33</td>\n",
       "      <td>1663.270151</td>\n",
       "      <td>0.873157</td>\n",
       "    </tr>\n",
       "  </tbody>\n",
       "</table>\n",
       "</div>"
      ],
      "text/plain": [
       "               Model  num_features         RMSE  R2_Score\n",
       "0  LR_ohc no scaling            33  1663.270151  0.873157"
      ]
     },
     "execution_count": 39,
     "metadata": {},
     "output_type": "execute_result"
    }
   ],
   "source": [
    "error_df=[]\n",
    "\n",
    "from sklearn.linear_model import LinearRegression\n",
    "from sklearn.metrics import r2_score\n",
    "\n",
    "LR=LinearRegression()\n",
    "lr_ohc=LR.fit(X_train_ohc,Y_train_ohc)\n",
    "y_ohc_pred=lr_ohc.predict(X_test_ohc)\n",
    "lr_ohc_rmse=rmse(Y_test_ohc,y_ohc_pred)\n",
    "lr_ohc_r2score=r2_score(Y_test_ohc,y_ohc_pred)\n",
    "num_features=X_train_ohc.shape[1]\n",
    "\n",
    "scores={'Model':'LR_ohc no scaling','num_features':num_features,'RMSE':lr_ohc_rmse,'R2_Score':lr_ohc_r2score}\n",
    "error_df=pd.DataFrame.from_dict([scores])\n",
    "error_df"
   ]
  },
  {
   "cell_type": "markdown",
   "id": "dd33d6cd",
   "metadata": {},
   "source": [
    "### Plain Linear Regression Model with Scaling"
   ]
  },
  {
   "cell_type": "code",
   "execution_count": 40,
   "id": "2ee4cc3f",
   "metadata": {},
   "outputs": [
    {
     "data": {
      "text/html": [
       "<div>\n",
       "<style scoped>\n",
       "    .dataframe tbody tr th:only-of-type {\n",
       "        vertical-align: middle;\n",
       "    }\n",
       "\n",
       "    .dataframe tbody tr th {\n",
       "        vertical-align: top;\n",
       "    }\n",
       "\n",
       "    .dataframe thead th {\n",
       "        text-align: right;\n",
       "    }\n",
       "</style>\n",
       "<table border=\"1\" class=\"dataframe\">\n",
       "  <thead>\n",
       "    <tr style=\"text-align: right;\">\n",
       "      <th></th>\n",
       "      <th>Model</th>\n",
       "      <th>num_features</th>\n",
       "      <th>RMSE</th>\n",
       "      <th>R2_Score</th>\n",
       "    </tr>\n",
       "  </thead>\n",
       "  <tbody>\n",
       "    <tr>\n",
       "      <th>0</th>\n",
       "      <td>LR_ohc no scaling</td>\n",
       "      <td>33</td>\n",
       "      <td>1663.270151</td>\n",
       "      <td>0.873157</td>\n",
       "    </tr>\n",
       "    <tr>\n",
       "      <th>0</th>\n",
       "      <td>LR_ohc scaling</td>\n",
       "      <td>33</td>\n",
       "      <td>1663.270151</td>\n",
       "      <td>0.873157</td>\n",
       "    </tr>\n",
       "  </tbody>\n",
       "</table>\n",
       "</div>"
      ],
      "text/plain": [
       "               Model  num_features         RMSE  R2_Score\n",
       "0  LR_ohc no scaling            33  1663.270151  0.873157\n",
       "0     LR_ohc scaling            33  1663.270151  0.873157"
      ]
     },
     "execution_count": 40,
     "metadata": {},
     "output_type": "execute_result"
    }
   ],
   "source": [
    "from sklearn.preprocessing import StandardScaler\n",
    "\n",
    "s=StandardScaler()\n",
    "X_train_ohc_ss=s.fit_transform(X_train_ohc)\n",
    "\n",
    "LR_ss=LinearRegression()\n",
    "lr_ohc_ss=LR_ss.fit(X_train_ohc_ss,Y_train_ohc)\n",
    "\n",
    "X_test_ohc_ss=s.transform(X_test_ohc)\n",
    "y_ohc_ss_pred=lr_ohc_ss.predict(X_test_ohc_ss)\n",
    "\n",
    "lr_ohc_ss_rmse=rmse(Y_test_ohc,y_ohc_ss_pred)\n",
    "lr_ohc_ss_r2score=r2_score(Y_test_ohc,y_ohc_ss_pred)\n",
    "num_features=X_train_ohc.shape[1]\n",
    "\n",
    "scores_ss={'Model':'LR_ohc scaling','num_features':num_features,'RMSE':lr_ohc_ss_rmse,'R2_Score':lr_ohc_ss_r2score}\n",
    "scores_ss\n",
    "error_df=error_df.append([scores_ss])\n",
    "error_df\n"
   ]
  },
  {
   "cell_type": "markdown",
   "id": "8348befd",
   "metadata": {},
   "source": [
    "it is obvious that scaling does not have any effect on LinearRegression. Besides, this data already transformed with sqrt() function above. "
   ]
  },
  {
   "cell_type": "markdown",
   "id": "6c86e3f3",
   "metadata": {},
   "source": [
    "### Plain Linear Regression Model without Scaling and one-hot encoding"
   ]
  },
  {
   "cell_type": "code",
   "execution_count": 41,
   "id": "6d6bdd18",
   "metadata": {},
   "outputs": [
    {
     "data": {
      "text/html": [
       "<div>\n",
       "<style scoped>\n",
       "    .dataframe tbody tr th:only-of-type {\n",
       "        vertical-align: middle;\n",
       "    }\n",
       "\n",
       "    .dataframe tbody tr th {\n",
       "        vertical-align: top;\n",
       "    }\n",
       "\n",
       "    .dataframe thead th {\n",
       "        text-align: right;\n",
       "    }\n",
       "</style>\n",
       "<table border=\"1\" class=\"dataframe\">\n",
       "  <thead>\n",
       "    <tr style=\"text-align: right;\">\n",
       "      <th></th>\n",
       "      <th>Model</th>\n",
       "      <th>num_features</th>\n",
       "      <th>RMSE</th>\n",
       "      <th>R2_Score</th>\n",
       "    </tr>\n",
       "  </thead>\n",
       "  <tbody>\n",
       "    <tr>\n",
       "      <th>0</th>\n",
       "      <td>LR_ohc no scaling</td>\n",
       "      <td>33</td>\n",
       "      <td>1663.270151</td>\n",
       "      <td>0.873157</td>\n",
       "    </tr>\n",
       "    <tr>\n",
       "      <th>0</th>\n",
       "      <td>LR_ohc scaling</td>\n",
       "      <td>33</td>\n",
       "      <td>1663.270151</td>\n",
       "      <td>0.873157</td>\n",
       "    </tr>\n",
       "    <tr>\n",
       "      <th>0</th>\n",
       "      <td>LR_no_ohc no scaling</td>\n",
       "      <td>5</td>\n",
       "      <td>2390.032955</td>\n",
       "      <td>0.738092</td>\n",
       "    </tr>\n",
       "  </tbody>\n",
       "</table>\n",
       "</div>"
      ],
      "text/plain": [
       "                  Model  num_features         RMSE  R2_Score\n",
       "0     LR_ohc no scaling            33  1663.270151  0.873157\n",
       "0        LR_ohc scaling            33  1663.270151  0.873157\n",
       "0  LR_no_ohc no scaling             5  2390.032955  0.738092"
      ]
     },
     "execution_count": 41,
     "metadata": {},
     "output_type": "execute_result"
    }
   ],
   "source": [
    "# Lets separate features from target value\n",
    "\n",
    "features_cols=[x for x in train_ohc[num_cols].columns if x!='price']\n",
    "\n",
    "X_train_no_ohc=train_ohc[features_cols]\n",
    "Y_train_no_ohc=train_ohc[num_cols]['price']\n",
    "\n",
    "X_test_no_ohc=test_ohc[features_cols]\n",
    "Y_test_no_ohc=test_ohc[num_cols]['price']\n",
    "\n",
    "LR_no_ohc=LinearRegression()\n",
    "lr_no_ohc=LR_no_ohc.fit(X_train_no_ohc,Y_train_no_ohc)\n",
    "y_no_ohc_pred=lr_no_ohc.predict(X_test_no_ohc)\n",
    "lr_no_ohc_rmse=rmse(Y_test_no_ohc,y_no_ohc_pred)\n",
    "lr_no_ohc_r2score=r2_score(Y_test_no_ohc,y_no_ohc_pred)\n",
    "num_features=X_train_no_ohc.shape[1]\n",
    "\n",
    "scores_no_ohc={'Model':'LR_no_ohc no scaling','num_features':num_features,'RMSE':lr_no_ohc_rmse,'R2_Score':lr_no_ohc_r2score}\n",
    "\n",
    "error_df=error_df.append([scores_no_ohc])\n",
    "error_df"
   ]
  },
  {
   "cell_type": "markdown",
   "id": "4642ada6",
   "metadata": {},
   "source": [
    "### Plain Linear Regression Model with Scaling,but no one-hot encoding"
   ]
  },
  {
   "cell_type": "code",
   "execution_count": 42,
   "id": "17afa864",
   "metadata": {},
   "outputs": [
    {
     "data": {
      "text/html": [
       "<div>\n",
       "<style scoped>\n",
       "    .dataframe tbody tr th:only-of-type {\n",
       "        vertical-align: middle;\n",
       "    }\n",
       "\n",
       "    .dataframe tbody tr th {\n",
       "        vertical-align: top;\n",
       "    }\n",
       "\n",
       "    .dataframe thead th {\n",
       "        text-align: right;\n",
       "    }\n",
       "</style>\n",
       "<table border=\"1\" class=\"dataframe\">\n",
       "  <thead>\n",
       "    <tr style=\"text-align: right;\">\n",
       "      <th></th>\n",
       "      <th>Model</th>\n",
       "      <th>num_features</th>\n",
       "      <th>RMSE</th>\n",
       "      <th>R2_Score</th>\n",
       "    </tr>\n",
       "  </thead>\n",
       "  <tbody>\n",
       "    <tr>\n",
       "      <th>0</th>\n",
       "      <td>LR_ohc no scaling</td>\n",
       "      <td>33</td>\n",
       "      <td>1663.270151</td>\n",
       "      <td>0.873157</td>\n",
       "    </tr>\n",
       "    <tr>\n",
       "      <th>0</th>\n",
       "      <td>LR_ohc scaling</td>\n",
       "      <td>33</td>\n",
       "      <td>1663.270151</td>\n",
       "      <td>0.873157</td>\n",
       "    </tr>\n",
       "    <tr>\n",
       "      <th>0</th>\n",
       "      <td>LR_no_ohc no scaling</td>\n",
       "      <td>5</td>\n",
       "      <td>2390.032955</td>\n",
       "      <td>0.738092</td>\n",
       "    </tr>\n",
       "    <tr>\n",
       "      <th>0</th>\n",
       "      <td>LR_no_ohc with scaling</td>\n",
       "      <td>5</td>\n",
       "      <td>2390.032955</td>\n",
       "      <td>0.738092</td>\n",
       "    </tr>\n",
       "  </tbody>\n",
       "</table>\n",
       "</div>"
      ],
      "text/plain": [
       "                    Model  num_features         RMSE  R2_Score\n",
       "0       LR_ohc no scaling            33  1663.270151  0.873157\n",
       "0          LR_ohc scaling            33  1663.270151  0.873157\n",
       "0    LR_no_ohc no scaling             5  2390.032955  0.738092\n",
       "0  LR_no_ohc with scaling             5  2390.032955  0.738092"
      ]
     },
     "execution_count": 42,
     "metadata": {},
     "output_type": "execute_result"
    }
   ],
   "source": [
    "\n",
    "features_cols=[x for x in train_ohc[num_cols].columns if x!='price']\n",
    "\n",
    "X_train_no_ohc=train_ohc[features_cols]\n",
    "Y_train_no_ohc=train_ohc[num_cols]['price']\n",
    "\n",
    "X_test_no_ohc=test_ohc[features_cols]\n",
    "Y_test_no_ohc=test_ohc[num_cols]['price']\n",
    "\n",
    "s2=StandardScaler()\n",
    "X_train_no_ohc_ss=s2.fit_transform(X_train_no_ohc)\n",
    "\n",
    "LR_no_ohc_ss=LinearRegression()\n",
    "lr_no_ohc_ss=LR_no_ohc_ss.fit(X_train_no_ohc_ss,Y_train_no_ohc)\n",
    "\n",
    "X_test_no_ohc_ss=s2.transform(X_test_no_ohc)\n",
    "y_no_ohc_ss_pred=lr_no_ohc_ss.predict(X_test_no_ohc_ss)\n",
    "\n",
    "lr_no_ohc_ss_rmse=rmse(Y_test_no_ohc,y_no_ohc_ss_pred)\n",
    "lr_no_ohc_ss_r2score=r2_score(Y_test_no_ohc,y_no_ohc_ss_pred)\n",
    "num_features=X_train_no_ohc.shape[1]\n",
    "\n",
    "scores_no_ohc_ss={'Model':'LR_no_ohc with scaling','num_features':num_features,'RMSE':lr_no_ohc_ss_rmse,'R2_Score':lr_no_ohc_ss_r2score}\n",
    "\n",
    "error_df=error_df.append([scores_no_ohc_ss])\n",
    "error_df"
   ]
  },
  {
   "cell_type": "markdown",
   "id": "8f7fb4fb",
   "metadata": {},
   "source": [
    "From the 'error_df' dataframe, it's seen that one-hot encoding clearly increases R2 score and decreases error values. From now, I will be using the encoded features for future analysis and modelling"
   ]
  },
  {
   "cell_type": "markdown",
   "id": "096969fa",
   "metadata": {},
   "source": [
    "### Polynomial Features"
   ]
  },
  {
   "cell_type": "markdown",
   "id": "8f4aca24",
   "metadata": {},
   "source": [
    "Here I created polynomialfeatures on the floats only, excluding the one hot encoded columns, and then combined the new polynomial features with one hot encoded columns to create new dataframe.Afer that I applied Vanilla Linear Regression on this new dataframe."
   ]
  },
  {
   "cell_type": "code",
   "execution_count": 43,
   "id": "dae23932",
   "metadata": {},
   "outputs": [
    {
     "data": {
      "text/html": [
       "<div>\n",
       "<style scoped>\n",
       "    .dataframe tbody tr th:only-of-type {\n",
       "        vertical-align: middle;\n",
       "    }\n",
       "\n",
       "    .dataframe tbody tr th {\n",
       "        vertical-align: top;\n",
       "    }\n",
       "\n",
       "    .dataframe thead th {\n",
       "        text-align: right;\n",
       "    }\n",
       "</style>\n",
       "<table border=\"1\" class=\"dataframe\">\n",
       "  <thead>\n",
       "    <tr style=\"text-align: right;\">\n",
       "      <th></th>\n",
       "      <th>PF degree</th>\n",
       "      <th>Number of features</th>\n",
       "      <th>RMSE</th>\n",
       "      <th>R2_Score</th>\n",
       "      <th>PF Degree</th>\n",
       "    </tr>\n",
       "  </thead>\n",
       "  <tbody>\n",
       "    <tr>\n",
       "      <th>0</th>\n",
       "      <td>NaN</td>\n",
       "      <td>33.0</td>\n",
       "      <td>1783.886599</td>\n",
       "      <td>0.830417</td>\n",
       "      <td>1.0</td>\n",
       "    </tr>\n",
       "    <tr>\n",
       "      <th>1</th>\n",
       "      <td>NaN</td>\n",
       "      <td>48.0</td>\n",
       "      <td>1546.725253</td>\n",
       "      <td>0.879034</td>\n",
       "      <td>2.0</td>\n",
       "    </tr>\n",
       "    <tr>\n",
       "      <th>2</th>\n",
       "      <td>NaN</td>\n",
       "      <td>83.0</td>\n",
       "      <td>1604.875571</td>\n",
       "      <td>0.872347</td>\n",
       "      <td>3.0</td>\n",
       "    </tr>\n",
       "    <tr>\n",
       "      <th>3</th>\n",
       "      <td>NaN</td>\n",
       "      <td>153.0</td>\n",
       "      <td>2340.364944</td>\n",
       "      <td>0.715962</td>\n",
       "      <td>4.0</td>\n",
       "    </tr>\n",
       "    <tr>\n",
       "      <th>4</th>\n",
       "      <td>NaN</td>\n",
       "      <td>279.0</td>\n",
       "      <td>7149.831697</td>\n",
       "      <td>0.024112</td>\n",
       "      <td>5.0</td>\n",
       "    </tr>\n",
       "    <tr>\n",
       "      <th>5</th>\n",
       "      <td>NaN</td>\n",
       "      <td>489.0</td>\n",
       "      <td>5672.504103</td>\n",
       "      <td>-0.153786</td>\n",
       "      <td>6.0</td>\n",
       "    </tr>\n",
       "  </tbody>\n",
       "</table>\n",
       "</div>"
      ],
      "text/plain": [
       "  PF degree Number of features         RMSE  R2_Score  PF Degree\n",
       "0       NaN               33.0  1783.886599  0.830417        1.0\n",
       "1       NaN               48.0  1546.725253  0.879034        2.0\n",
       "2       NaN               83.0  1604.875571  0.872347        3.0\n",
       "3       NaN              153.0  2340.364944  0.715962        4.0\n",
       "4       NaN              279.0  7149.831697  0.024112        5.0\n",
       "5       NaN              489.0  5672.504103 -0.153786        6.0"
      ]
     },
     "execution_count": 43,
     "metadata": {},
     "output_type": "execute_result"
    }
   ],
   "source": [
    "from sklearn.preprocessing import PolynomialFeatures\n",
    "from sklearn.model_selection import train_test_split\n",
    "\n",
    "scores_pf=pd.DataFrame(columns=['PF degree', 'Number of features', 'RMSE', 'R2_Score'])\n",
    "X_ohc_float=X_ohc[num_cols[1:]]\n",
    "for m in range(1,7):\n",
    "    pf=PolynomialFeatures(degree=m,include_bias=False)\n",
    "    X_ohc_pf=pf.fit_transform(X_ohc_float)\n",
    "    a=pd.DataFrame(X_ohc_pf,columns=pf.get_feature_names(input_features=num_cols[1:]))\n",
    "    X_ohc_pf_2=a.join(X_ohc[X_ohc.columns[~X_ohc.columns.isin(num_cols)].tolist()])   \n",
    "    X_ohc_pf_train,X_ohc_pf_test,Y_train,Y_test=train_test_split(X_ohc_pf_2,Y_ohc,test_size=0.3,random_state=42)\n",
    "    LR=LinearRegression()\n",
    "    LR.fit(X_ohc_pf_train,Y_train)\n",
    "    y_pred=LR.predict(X_ohc_pf_test)\n",
    "    LR_pf_r2score=r2_score(y_pred,Y_test)\n",
    "    LR_pf_RMSE=rmse(y_pred,Y_test)\n",
    "    \n",
    "    num_features=X_ohc_pf_2.shape[1]\n",
    "    \n",
    "    error_pf={'PF Degree':m,'Number of features':num_features,'RMSE':LR_pf_RMSE,'R2_Score':LR_pf_r2score}\n",
    "    scores_pf=scores_pf.append(error_pf,ignore_index=True)\n",
    "scores_pf    "
   ]
  },
  {
   "cell_type": "markdown",
   "id": "f868771e",
   "metadata": {},
   "source": [
    "it seems polynomial **'degree=2'** gives best **RMSE=1546.72** and **R2_score=0.879034**. It is better than previous **LR_ohc scaling** model, which gave **RMSE=1663.270151** and **R2=0.873157**"
   ]
  },
  {
   "cell_type": "markdown",
   "id": "d8178b05",
   "metadata": {},
   "source": [
    "### Vanilla Linear Regression"
   ]
  },
  {
   "cell_type": "code",
   "execution_count": 44,
   "id": "a04aa527",
   "metadata": {},
   "outputs": [
    {
     "data": {
      "text/plain": [
       "(0.902309156796415, {'polynomial_features__degree': 2})"
      ]
     },
     "execution_count": 44,
     "metadata": {},
     "output_type": "execute_result"
    }
   ],
   "source": [
    "from sklearn.model_selection import KFold, cross_val_predict, GridSearchCV\n",
    "from sklearn.pipeline import Pipeline\n",
    "\n",
    "kf = KFold(shuffle=True, random_state=42, n_splits=5)\n",
    "estimator = Pipeline([\n",
    "                      (\"polynomial_features\", PolynomialFeatures()),  \n",
    "                      \n",
    "                      (\"linear_regression\", LinearRegression())])\n",
    "params = {\"polynomial_features__degree\": range(3),}\n",
    "Vanil_grid = GridSearchCV(estimator, params, cv=kf)\n",
    "Vanil_grid.fit(X_ohc, Y_ohc)\n",
    "\n",
    "Vanil_grid.best_score_, Vanil_grid.best_params_"
   ]
  },
  {
   "cell_type": "code",
   "execution_count": 45,
   "id": "52f067db",
   "metadata": {},
   "outputs": [],
   "source": [
    "from sklearn.metrics import mean_squared_error\n",
    "\n",
    "def rmse(ytrue, ypredicted):\n",
    "    return np.sqrt(mean_squared_error(ytrue, ypredicted))\n",
    "\n",
    "#X_train_ohc,X_test_ohc,Y_train_ohc,Y_test_ohc=train_test_split(X_ohc, Y_ohc,test_size=0.3,random_state=42)\n",
    "\n",
    "error_matrix=[]\n"
   ]
  },
  {
   "cell_type": "code",
   "execution_count": 46,
   "id": "e0bf97df",
   "metadata": {},
   "outputs": [
    {
     "data": {
      "text/html": [
       "<div>\n",
       "<style scoped>\n",
       "    .dataframe tbody tr th:only-of-type {\n",
       "        vertical-align: middle;\n",
       "    }\n",
       "\n",
       "    .dataframe tbody tr th {\n",
       "        vertical-align: top;\n",
       "    }\n",
       "\n",
       "    .dataframe thead th {\n",
       "        text-align: right;\n",
       "    }\n",
       "</style>\n",
       "<table border=\"1\" class=\"dataframe\">\n",
       "  <thead>\n",
       "    <tr style=\"text-align: right;\">\n",
       "      <th></th>\n",
       "      <th>Model</th>\n",
       "      <th>RMSE</th>\n",
       "      <th>R2_Score</th>\n",
       "      <th>alpha</th>\n",
       "    </tr>\n",
       "  </thead>\n",
       "  <tbody>\n",
       "    <tr>\n",
       "      <th>0</th>\n",
       "      <td>Vanilla LinearRegresson</td>\n",
       "      <td>1346.431386</td>\n",
       "      <td>0.919179</td>\n",
       "      <td>NA</td>\n",
       "    </tr>\n",
       "  </tbody>\n",
       "</table>\n",
       "</div>"
      ],
      "text/plain": [
       "                     Model         RMSE  R2_Score alpha\n",
       "0  Vanilla LinearRegresson  1346.431386  0.919179    NA"
      ]
     },
     "execution_count": 46,
     "metadata": {},
     "output_type": "execute_result"
    }
   ],
   "source": [
    "\n",
    "best_vanilla_estimator = Pipeline([\n",
    "                    (\"scaler\", StandardScaler()),\n",
    "                    (\"make_higher_degree\", PolynomialFeatures(degree=2)),\n",
    "                    (\"vanilla_regression\", LinearRegression())])\n",
    "\n",
    "best_vanilla_estimator.fit(X_ohc, Y_ohc)\n",
    "LR_predict=best_vanilla_estimator.predict(X_ohc)\n",
    "\n",
    "LR_rmse=rmse(Y_ohc,LR_predict)\n",
    "LR_r2score=r2_score(Y_ohc,LR_predict)\n",
    "\n",
    "model_scores={'Model':'Vanilla LinearRegresson','RMSE':LR_rmse,'R2_Score':LR_r2score,'alpha':'NA',}\n",
    "model_error_matrix=pd.DataFrame.from_dict([model_scores])\n",
    "model_error_matrix      \n",
    "              "
   ]
  },
  {
   "cell_type": "code",
   "execution_count": 47,
   "id": "8958d9de",
   "metadata": {},
   "outputs": [
    {
     "data": {
      "text/plain": [
       "[0.8458331023702216,\n",
       " 0.8970081003193395,\n",
       " 0.8516323804828236,\n",
       " 0.902309156796415,\n",
       " 0.9033313951176059,\n",
       " 0.9051166548580392,\n",
       " 0.9047236676900003,\n",
       " 0.9034623266185913]"
      ]
     },
     "execution_count": 47,
     "metadata": {},
     "output_type": "execute_result"
    }
   ],
   "source": [
    "from sklearn.model_selection import KFold, cross_val_predict, GridSearchCV\n",
    "from sklearn.pipeline import Pipeline\n",
    "splitss=[]\n",
    "for k in range(2,10):\n",
    "    kf = KFold(shuffle=True, random_state=42, n_splits=k)\n",
    "    estimator = Pipeline([(\"polynomial_features\", PolynomialFeatures()),(\"linear_regression\", LinearRegression())])       \n",
    "              \n",
    "    params = {\"polynomial_features__degree\": range(3),}\n",
    "    grid = GridSearchCV(estimator, params, cv=kf)\n",
    "    grid.fit(X_ohc, Y_ohc)\n",
    "    splitss.append(grid.best_score_)\n",
    "    \n",
    "splitss\n"
   ]
  },
  {
   "cell_type": "code",
   "execution_count": 48,
   "id": "e3138700",
   "metadata": {},
   "outputs": [
    {
     "data": {
      "text/plain": [
       "[<matplotlib.lines.Line2D at 0x26fb6a8e8b0>]"
      ]
     },
     "execution_count": 48,
     "metadata": {},
     "output_type": "execute_result"
    },
    {
     "data": {
      "image/png": "[encoded data removed]",
      "text/plain": [
       "<Figure size 432x288 with 1 Axes>"
      ]
     },
     "metadata": {
      "needs_background": "light"
     },
     "output_type": "display_data"
    }
   ],
   "source": [
    "y=splitss\n",
    "x=range(2,10)\n",
    "import matplotlib.pyplot as plt\n",
    "plt.plot(x,y)"
   ]
  },
  {
   "cell_type": "markdown",
   "id": "f7bbbbfa",
   "metadata": {},
   "source": [
    "k=5 splits is the optimum one"
   ]
  },
  {
   "cell_type": "markdown",
   "id": "6dbc1f75",
   "metadata": {},
   "source": [
    "### Lasso Regression"
   ]
  },
  {
   "cell_type": "code",
   "execution_count": 49,
   "id": "6825fba3",
   "metadata": {},
   "outputs": [
    {
     "data": {
      "text/plain": [
       "(0.9109758480525951,\n",
       " {'lasso_regression__alpha': 0.8545432152652083,\n",
       "  'polynomial_features__degree': 2})"
      ]
     },
     "execution_count": 49,
     "metadata": {},
     "output_type": "execute_result"
    }
   ],
   "source": [
    "\n",
    "kf = KFold(shuffle=True, random_state=42, n_splits=5)\n",
    "\n",
    "estimator = Pipeline([(\"polynomial_features\", PolynomialFeatures()),\n",
    "                      (\"Scaler\",StandardScaler()),\n",
    "                      (\"lasso_regression\", Lasso())])       \n",
    "        \n",
    "\n",
    "params = {\"polynomial_features__degree\": range(3),\n",
    "          \"lasso_regression__alpha\":np.geomspace(0.01,30,10)\n",
    "         }\n",
    "\n",
    "grid = GridSearchCV(estimator, params, cv=kf)\n",
    "grid.fit(X_ohc, Y_ohc)\n",
    "\n",
    "grid.best_score_, grid.best_params_"
   ]
  },
  {
   "cell_type": "code",
   "execution_count": 50,
   "id": "b34c956b",
   "metadata": {},
   "outputs": [
    {
     "data": {
      "text/plain": [
       "0.9178430433169175"
      ]
     },
     "execution_count": 50,
     "metadata": {},
     "output_type": "execute_result"
    }
   ],
   "source": [
    "best_lasso_estimator = Pipeline([\n",
    "                    \n",
    "                    (\"make_higher_degree\", PolynomialFeatures(degree=2)),\n",
    "                    (\"scaler\", StandardScaler()),\n",
    "                    (\"lasso_regression\", Lasso(alpha=0.8545432152652083))])\n",
    "\n",
    "best_lasso_estimator.fit(X_ohc, Y_ohc)\n",
    "best_lasso_estimator.score(X_ohc, Y_ohc)"
   ]
  },
  {
   "cell_type": "code",
   "execution_count": 51,
   "id": "7ba0a794",
   "metadata": {},
   "outputs": [
    {
     "data": {
      "text/html": [
       "<div>\n",
       "<style scoped>\n",
       "    .dataframe tbody tr th:only-of-type {\n",
       "        vertical-align: middle;\n",
       "    }\n",
       "\n",
       "    .dataframe tbody tr th {\n",
       "        vertical-align: top;\n",
       "    }\n",
       "\n",
       "    .dataframe thead th {\n",
       "        text-align: right;\n",
       "    }\n",
       "</style>\n",
       "<table border=\"1\" class=\"dataframe\">\n",
       "  <thead>\n",
       "    <tr style=\"text-align: right;\">\n",
       "      <th></th>\n",
       "      <th>Model</th>\n",
       "      <th>RMSE</th>\n",
       "      <th>R2_Score</th>\n",
       "      <th>alpha</th>\n",
       "    </tr>\n",
       "  </thead>\n",
       "  <tbody>\n",
       "    <tr>\n",
       "      <th>0</th>\n",
       "      <td>Vanilla LinearRegresson</td>\n",
       "      <td>1346.431386</td>\n",
       "      <td>0.919179</td>\n",
       "      <td>NA</td>\n",
       "    </tr>\n",
       "    <tr>\n",
       "      <th>0</th>\n",
       "      <td>Lasso LinearRegresson</td>\n",
       "      <td>1357.517804</td>\n",
       "      <td>0.917843</td>\n",
       "      <td>NaN</td>\n",
       "    </tr>\n",
       "  </tbody>\n",
       "</table>\n",
       "</div>"
      ],
      "text/plain": [
       "                     Model         RMSE  R2_Score alpha\n",
       "0  Vanilla LinearRegresson  1346.431386  0.919179    NA\n",
       "0    Lasso LinearRegresson  1357.517804  0.917843   NaN"
      ]
     },
     "execution_count": 51,
     "metadata": {},
     "output_type": "execute_result"
    }
   ],
   "source": [
    "best_lasso_estimator = Pipeline([\n",
    "                    \n",
    "                    (\"make_higher_degree\", PolynomialFeatures(degree=2)),\n",
    "                    (\"scaler\", StandardScaler()),\n",
    "                    (\"lasso_regression\", Lasso(alpha=0.8545432152652083))])\n",
    "\n",
    "best_lasso_estimator.fit(X_ohc, Y_ohc)\n",
    "Lasso_predict=best_lasso_estimator.predict(X_ohc)\n",
    "\n",
    "Lasso_rmse=rmse(Y_ohc,Lasso_predict)\n",
    "Lasso_r2score=r2_score(Y_ohc,Lasso_predict)\n",
    "\n",
    "model_scores={'Model':'Lasso LinearRegresson','RMSE':Lasso_rmse,'R2_Score':Lasso_r2score}\n",
    "model_error_matrix=model_error_matrix.append([model_scores])\n",
    "model_error_matrix"
   ]
  },
  {
   "cell_type": "markdown",
   "id": "11844387",
   "metadata": {},
   "source": [
    "### Ridge Regression"
   ]
  },
  {
   "cell_type": "code",
   "execution_count": 52,
   "id": "34c1c9d9",
   "metadata": {},
   "outputs": [
    {
     "data": {
      "text/plain": [
       "(0.9111322835757928,\n",
       " {'polynomial_features__degree': 2,\n",
       "  'ridge_regression__alpha': 12.324645850253583})"
      ]
     },
     "execution_count": 52,
     "metadata": {},
     "output_type": "execute_result"
    }
   ],
   "source": [
    "kf = KFold(shuffle=True, random_state=42, n_splits=5)\n",
    "\n",
    "estimator = Pipeline([(\"polynomial_features\", PolynomialFeatures()),\n",
    "                      (\"Scaler\",StandardScaler()),\n",
    "                      (\"ridge_regression\", Ridge())])       \n",
    "        \n",
    "\n",
    "params = {\"polynomial_features__degree\": range(3),\n",
    "          \"ridge_regression__alpha\":np.geomspace(0.01,30,10)\n",
    "         }\n",
    "\n",
    "grid = GridSearchCV(estimator, params, cv=kf)\n",
    "grid.fit(X_ohc, Y_ohc)\n",
    "\n",
    "grid.best_score_, grid.best_params_"
   ]
  },
  {
   "cell_type": "code",
   "execution_count": 53,
   "id": "6c2a41f3",
   "metadata": {},
   "outputs": [
    {
     "data": {
      "text/html": [
       "<div>\n",
       "<style scoped>\n",
       "    .dataframe tbody tr th:only-of-type {\n",
       "        vertical-align: middle;\n",
       "    }\n",
       "\n",
       "    .dataframe tbody tr th {\n",
       "        vertical-align: top;\n",
       "    }\n",
       "\n",
       "    .dataframe thead th {\n",
       "        text-align: right;\n",
       "    }\n",
       "</style>\n",
       "<table border=\"1\" class=\"dataframe\">\n",
       "  <thead>\n",
       "    <tr style=\"text-align: right;\">\n",
       "      <th></th>\n",
       "      <th>Model</th>\n",
       "      <th>RMSE</th>\n",
       "      <th>R2_Score</th>\n",
       "      <th>alpha</th>\n",
       "    </tr>\n",
       "  </thead>\n",
       "  <tbody>\n",
       "    <tr>\n",
       "      <th>0</th>\n",
       "      <td>Vanilla LinearRegresson</td>\n",
       "      <td>1346.431386</td>\n",
       "      <td>0.919179</td>\n",
       "      <td>NA</td>\n",
       "    </tr>\n",
       "    <tr>\n",
       "      <th>0</th>\n",
       "      <td>Lasso LinearRegresson</td>\n",
       "      <td>1357.517804</td>\n",
       "      <td>0.917843</td>\n",
       "      <td>NaN</td>\n",
       "    </tr>\n",
       "    <tr>\n",
       "      <th>0</th>\n",
       "      <td>Ridge LinearRegresson</td>\n",
       "      <td>1355.975876</td>\n",
       "      <td>0.918030</td>\n",
       "      <td>NaN</td>\n",
       "    </tr>\n",
       "  </tbody>\n",
       "</table>\n",
       "</div>"
      ],
      "text/plain": [
       "                     Model         RMSE  R2_Score alpha\n",
       "0  Vanilla LinearRegresson  1346.431386  0.919179    NA\n",
       "0    Lasso LinearRegresson  1357.517804  0.917843   NaN\n",
       "0    Ridge LinearRegresson  1355.975876  0.918030   NaN"
      ]
     },
     "execution_count": 53,
     "metadata": {},
     "output_type": "execute_result"
    }
   ],
   "source": [
    "best_ridge_estimator = Pipeline([\n",
    "                    \n",
    "                    (\"make_higher_degree\", PolynomialFeatures(degree=2)),\n",
    "                    (\"scaler\", StandardScaler()),\n",
    "                    (\"ridge_regression\", Ridge(alpha=12.324645850253583))])\n",
    "\n",
    "best_ridge_estimator.fit(X_ohc, Y_ohc)\n",
    "Ridge_predict=best_ridge_estimator.predict(X_ohc)\n",
    "\n",
    "Ridge_rmse=rmse(Y_ohc,Ridge_predict)\n",
    "Ridge_r2score=r2_score(Y_ohc,Ridge_predict)\n",
    "\n",
    "model_scores={'Model':'Ridge LinearRegresson','RMSE':Ridge_rmse,'R2_Score':Ridge_r2score}\n",
    "model_error_matrix=model_error_matrix.append([model_scores])\n",
    "model_error_matrix"
   ]
  },
  {
   "cell_type": "markdown",
   "id": "26b7cc2c",
   "metadata": {},
   "source": [
    "### ElasticNet Regression"
   ]
  },
  {
   "cell_type": "code",
   "execution_count": 54,
   "id": "1a60740d",
   "metadata": {},
   "outputs": [
    {
     "data": {
      "text/plain": [
       "(0.9111251018017528,\n",
       " {'ElasticNetRegression__alpha': 0.01,\n",
       "  'ElasticNetRegression__l1_ratio': 0.9,\n",
       "  'polynomial_features__degree': 2})"
      ]
     },
     "execution_count": 54,
     "metadata": {},
     "output_type": "execute_result"
    }
   ],
   "source": [
    "from sklearn.linear_model import ElasticNet\n",
    "kf = KFold(shuffle=True, random_state=42, n_splits=5)\n",
    "\n",
    "estimator = Pipeline([(\"polynomial_features\", PolynomialFeatures()),\n",
    "                      (\"Scaler\",StandardScaler()),\n",
    "                      (\"ElasticNetRegression\", ElasticNet())])       \n",
    "        \n",
    "\n",
    "params = {\"polynomial_features__degree\": range(3),\n",
    "          \"ElasticNetRegression__alpha\":np.geomspace(0.01,30,10),\n",
    "          \"ElasticNetRegression__l1_ratio\":np.arange(0,1,0.1)\n",
    "         }\n",
    "\n",
    "grid = GridSearchCV(estimator, params, cv=kf)\n",
    "grid.fit(X_ohc, Y_ohc)\n",
    "\n",
    "grid.best_score_, grid.best_params_"
   ]
  },
  {
   "cell_type": "code",
   "execution_count": 55,
   "id": "8504df66",
   "metadata": {},
   "outputs": [
    {
     "data": {
      "text/plain": [
       "0.9176892788271231"
      ]
     },
     "execution_count": 55,
     "metadata": {},
     "output_type": "execute_result"
    }
   ],
   "source": [
    "best_ElasticNet_estimator = Pipeline([\n",
    "                    \n",
    "                    (\"make_higher_degree\", PolynomialFeatures(degree=2)),\n",
    "                    (\"scaler\", StandardScaler()),\n",
    "                    (\"ElasticNet_regression\", ElasticNet(alpha=0.01,l1_ratio=0.9))])\n",
    "\n",
    "best_ElasticNet_estimator.fit(X_ohc, Y_ohc)\n",
    "best_ElasticNet_estimator.score(X_ohc, Y_ohc)"
   ]
  },
  {
   "cell_type": "code",
   "execution_count": 56,
   "id": "47e06dd8",
   "metadata": {},
   "outputs": [
    {
     "data": {
      "text/html": [
       "<div>\n",
       "<style scoped>\n",
       "    .dataframe tbody tr th:only-of-type {\n",
       "        vertical-align: middle;\n",
       "    }\n",
       "\n",
       "    .dataframe tbody tr th {\n",
       "        vertical-align: top;\n",
       "    }\n",
       "\n",
       "    .dataframe thead th {\n",
       "        text-align: right;\n",
       "    }\n",
       "</style>\n",
       "<table border=\"1\" class=\"dataframe\">\n",
       "  <thead>\n",
       "    <tr style=\"text-align: right;\">\n",
       "      <th></th>\n",
       "      <th>Model</th>\n",
       "      <th>RMSE</th>\n",
       "      <th>R2_Score</th>\n",
       "      <th>alpha</th>\n",
       "    </tr>\n",
       "  </thead>\n",
       "  <tbody>\n",
       "    <tr>\n",
       "      <th>0</th>\n",
       "      <td>Vanilla LinearRegresson</td>\n",
       "      <td>1346.431386</td>\n",
       "      <td>0.919179</td>\n",
       "      <td>NA</td>\n",
       "    </tr>\n",
       "    <tr>\n",
       "      <th>0</th>\n",
       "      <td>Lasso LinearRegresson</td>\n",
       "      <td>1357.517804</td>\n",
       "      <td>0.917843</td>\n",
       "      <td>NaN</td>\n",
       "    </tr>\n",
       "    <tr>\n",
       "      <th>0</th>\n",
       "      <td>Ridge LinearRegresson</td>\n",
       "      <td>1355.975876</td>\n",
       "      <td>0.918030</td>\n",
       "      <td>NaN</td>\n",
       "    </tr>\n",
       "    <tr>\n",
       "      <th>0</th>\n",
       "      <td>ElasticNet LinearRegresson</td>\n",
       "      <td>1358.787571</td>\n",
       "      <td>0.917689</td>\n",
       "      <td>NaN</td>\n",
       "    </tr>\n",
       "  </tbody>\n",
       "</table>\n",
       "</div>"
      ],
      "text/plain": [
       "                        Model         RMSE  R2_Score alpha\n",
       "0     Vanilla LinearRegresson  1346.431386  0.919179    NA\n",
       "0       Lasso LinearRegresson  1357.517804  0.917843   NaN\n",
       "0       Ridge LinearRegresson  1355.975876  0.918030   NaN\n",
       "0  ElasticNet LinearRegresson  1358.787571  0.917689   NaN"
      ]
     },
     "execution_count": 56,
     "metadata": {},
     "output_type": "execute_result"
    }
   ],
   "source": [
    "best_ElasticNet_estimator = Pipeline([\n",
    "                    \n",
    "                    (\"make_higher_degree\", PolynomialFeatures(degree=2)),\n",
    "                    (\"scaler\", StandardScaler()),\n",
    "                    (\"ElasticNet_regression\", ElasticNet(alpha=0.01,l1_ratio=0.9))])\n",
    "\n",
    "best_ElasticNet_estimator.fit(X_ohc, Y_ohc)\n",
    "ElasticNet_predict=best_ElasticNet_estimator.predict(X_ohc)\n",
    "\n",
    "ElasticNet_rmse=rmse(Y_ohc,ElasticNet_predict)\n",
    "ElasticNet_r2score=r2_score(Y_ohc,ElasticNet_predict)\n",
    "\n",
    "model_scores={'Model':'ElasticNet LinearRegresson','RMSE':ElasticNet_rmse,'R2_Score':ElasticNet_r2score}\n",
    "model_error_matrix=model_error_matrix.append([model_scores])\n",
    "model_error_matrix"
   ]
  },
  {
   "cell_type": "code",
   "execution_count": null,
   "id": "226e33fb",
   "metadata": {},
   "outputs": [],
   "source": []
  },
  {
   "cell_type": "markdown",
   "id": "17b5ab00",
   "metadata": {},
   "source": [
    "## Prediction on the test set"
   ]
  },
  {
   "cell_type": "markdown",
   "id": "8a003285",
   "metadata": {},
   "source": [
    "Lets use 4 models to make predictions on the test set and see how these models' performance are."
   ]
  },
  {
   "cell_type": "code",
   "execution_count": 57,
   "id": "8bb7fcf3",
   "metadata": {},
   "outputs": [
    {
     "data": {
      "text/html": [
       "<div>\n",
       "<style scoped>\n",
       "    .dataframe tbody tr th:only-of-type {\n",
       "        vertical-align: middle;\n",
       "    }\n",
       "\n",
       "    .dataframe tbody tr th {\n",
       "        vertical-align: top;\n",
       "    }\n",
       "\n",
       "    .dataframe thead th {\n",
       "        text-align: right;\n",
       "    }\n",
       "</style>\n",
       "<table border=\"1\" class=\"dataframe\">\n",
       "  <thead>\n",
       "    <tr style=\"text-align: right;\">\n",
       "      <th></th>\n",
       "      <th>Model</th>\n",
       "      <th>RMSE</th>\n",
       "      <th>R2_Score</th>\n",
       "    </tr>\n",
       "  </thead>\n",
       "  <tbody>\n",
       "    <tr>\n",
       "      <th>0</th>\n",
       "      <td>Elastic Net Regresson</td>\n",
       "      <td>1374.348015</td>\n",
       "      <td>0.913397</td>\n",
       "    </tr>\n",
       "  </tbody>\n",
       "</table>\n",
       "</div>"
      ],
      "text/plain": [
       "                   Model         RMSE  R2_Score\n",
       "0  Elastic Net Regresson  1374.348015  0.913397"
      ]
     },
     "execution_count": 57,
     "metadata": {},
     "output_type": "execute_result"
    }
   ],
   "source": [
    "X_train_ohc,X_test_ohc,Y_train_ohc,Y_test_ohc=train_test_split(X_ohc, Y_ohc,test_size=0.3,random_state=42)\n",
    "\n",
    "best_ElasticNet_estimator = Pipeline([\n",
    "                    \n",
    "                    (\"make_higher_degree\", PolynomialFeatures(degree=2)),\n",
    "                    (\"scaler\", StandardScaler()),\n",
    "                    (\"ElasticNet_regression\", ElasticNet(alpha=0.01,l1_ratio=0.9))])\n",
    "\n",
    "ElasticNet_predict2=best_ElasticNet_estimator.fit(X_train_ohc, Y_train_ohc).predict(X_test_ohc)\n",
    "\n",
    "ElasticNet_rmse2=rmse(Y_test_ohc,ElasticNet_predict2)\n",
    "ElasticNet_r2score2=r2_score(Y_test_ohc,ElasticNet_predict2)\n",
    "\n",
    "model_scores2={'Model':'Elastic Net Regresson','RMSE':ElasticNet_rmse2,'R2_Score':ElasticNet_r2score2}\n",
    "model_error_matrix2=pd.DataFrame.from_dict([model_scores2])\n",
    "model_error_matrix2\n",
    "\n",
    "\n"
   ]
  },
  {
   "cell_type": "code",
   "execution_count": 58,
   "id": "98833990",
   "metadata": {},
   "outputs": [
    {
     "data": {
      "text/html": [
       "<div>\n",
       "<style scoped>\n",
       "    .dataframe tbody tr th:only-of-type {\n",
       "        vertical-align: middle;\n",
       "    }\n",
       "\n",
       "    .dataframe tbody tr th {\n",
       "        vertical-align: top;\n",
       "    }\n",
       "\n",
       "    .dataframe thead th {\n",
       "        text-align: right;\n",
       "    }\n",
       "</style>\n",
       "<table border=\"1\" class=\"dataframe\">\n",
       "  <thead>\n",
       "    <tr style=\"text-align: right;\">\n",
       "      <th></th>\n",
       "      <th>Model</th>\n",
       "      <th>RMSE</th>\n",
       "      <th>R2_Score</th>\n",
       "    </tr>\n",
       "  </thead>\n",
       "  <tbody>\n",
       "    <tr>\n",
       "      <th>0</th>\n",
       "      <td>Elastic Net Regresson</td>\n",
       "      <td>1374.348015</td>\n",
       "      <td>0.913397</td>\n",
       "    </tr>\n",
       "    <tr>\n",
       "      <th>0</th>\n",
       "      <td>Ridge LinearRegresson</td>\n",
       "      <td>1371.846729</td>\n",
       "      <td>0.913712</td>\n",
       "    </tr>\n",
       "  </tbody>\n",
       "</table>\n",
       "</div>"
      ],
      "text/plain": [
       "                   Model         RMSE  R2_Score\n",
       "0  Elastic Net Regresson  1374.348015  0.913397\n",
       "0  Ridge LinearRegresson  1371.846729  0.913712"
      ]
     },
     "execution_count": 58,
     "metadata": {},
     "output_type": "execute_result"
    }
   ],
   "source": [
    "X_train_ohc,X_test_ohc,Y_train_ohc,Y_test_ohc=train_test_split(X_ohc, Y_ohc,test_size=0.3,random_state=42)\n",
    "\n",
    "best_Ridge_estimator = Pipeline([\n",
    "                    \n",
    "                    (\"make_higher_degree\", PolynomialFeatures(degree=2)),\n",
    "                    (\"scaler\", StandardScaler()),\n",
    "                    (\"ridge_regression\", Ridge(alpha=12.324645850253583))])\n",
    "\n",
    "Ridge_predict2=best_Ridge_estimator.fit(X_train_ohc, Y_train_ohc).predict(X_test_ohc)\n",
    "\n",
    "Ridge_rmse2=rmse(Y_test_ohc,Ridge_predict2)\n",
    "Ridge_r2score2=r2_score(Y_test_ohc,Ridge_predict2)\n",
    "\n",
    "model_scores2={'Model':'Ridge LinearRegresson','RMSE':Ridge_rmse2,'R2_Score':Ridge_r2score2}\n",
    "model_error_matrix2=model_error_matrix2.append([model_scores2])\n",
    "model_error_matrix2\n",
    "\n"
   ]
  },
  {
   "cell_type": "code",
   "execution_count": 59,
   "id": "c1552f72",
   "metadata": {},
   "outputs": [
    {
     "data": {
      "text/html": [
       "<div>\n",
       "<style scoped>\n",
       "    .dataframe tbody tr th:only-of-type {\n",
       "        vertical-align: middle;\n",
       "    }\n",
       "\n",
       "    .dataframe tbody tr th {\n",
       "        vertical-align: top;\n",
       "    }\n",
       "\n",
       "    .dataframe thead th {\n",
       "        text-align: right;\n",
       "    }\n",
       "</style>\n",
       "<table border=\"1\" class=\"dataframe\">\n",
       "  <thead>\n",
       "    <tr style=\"text-align: right;\">\n",
       "      <th></th>\n",
       "      <th>Model</th>\n",
       "      <th>RMSE</th>\n",
       "      <th>R2_Score</th>\n",
       "    </tr>\n",
       "  </thead>\n",
       "  <tbody>\n",
       "    <tr>\n",
       "      <th>0</th>\n",
       "      <td>Elastic Net Regresson</td>\n",
       "      <td>1374.348015</td>\n",
       "      <td>0.913397</td>\n",
       "    </tr>\n",
       "    <tr>\n",
       "      <th>0</th>\n",
       "      <td>Ridge LinearRegresson</td>\n",
       "      <td>1371.846729</td>\n",
       "      <td>0.913712</td>\n",
       "    </tr>\n",
       "    <tr>\n",
       "      <th>0</th>\n",
       "      <td>Lasso LinearRegresson</td>\n",
       "      <td>1392.551583</td>\n",
       "      <td>0.911087</td>\n",
       "    </tr>\n",
       "  </tbody>\n",
       "</table>\n",
       "</div>"
      ],
      "text/plain": [
       "                   Model         RMSE  R2_Score\n",
       "0  Elastic Net Regresson  1374.348015  0.913397\n",
       "0  Ridge LinearRegresson  1371.846729  0.913712\n",
       "0  Lasso LinearRegresson  1392.551583  0.911087"
      ]
     },
     "execution_count": 59,
     "metadata": {},
     "output_type": "execute_result"
    }
   ],
   "source": [
    "\n",
    "X_train_ohc,X_test_ohc,Y_train_ohc,Y_test_ohc=train_test_split(X_ohc, Y_ohc,test_size=0.3,random_state=42)\n",
    "\n",
    "\n",
    "best_lasso_estimator = Pipeline([\n",
    "                    \n",
    "                    (\"make_higher_degree\", PolynomialFeatures(degree=2)),\n",
    "                    (\"scaler\", StandardScaler()),\n",
    "                    (\"lasso_regression\", Lasso(alpha=0.8545432152652083))])\n",
    "\n",
    "Lasso_predict2=best_lasso_estimator.fit(X_train_ohc, Y_train_ohc).predict(X_test_ohc)\n",
    "\n",
    "Lasso_rmse2=rmse(Y_test_ohc,Lasso_predict2)\n",
    "Lasso_r2score2=r2_score(Y_test_ohc,Lasso_predict2)\n",
    "\n",
    "model_scores2={'Model':'Lasso LinearRegresson','RMSE':Lasso_rmse2,'R2_Score':Lasso_r2score2}\n",
    "model_error_matrix2=model_error_matrix2.append([model_scores2])\n",
    "model_error_matrix2\n",
    "\n",
    "         \n",
    "                    \n"
   ]
  },
  {
   "cell_type": "code",
   "execution_count": 60,
   "id": "05c02dee",
   "metadata": {},
   "outputs": [
    {
     "data": {
      "text/html": [
       "<div>\n",
       "<style scoped>\n",
       "    .dataframe tbody tr th:only-of-type {\n",
       "        vertical-align: middle;\n",
       "    }\n",
       "\n",
       "    .dataframe tbody tr th {\n",
       "        vertical-align: top;\n",
       "    }\n",
       "\n",
       "    .dataframe thead th {\n",
       "        text-align: right;\n",
       "    }\n",
       "</style>\n",
       "<table border=\"1\" class=\"dataframe\">\n",
       "  <thead>\n",
       "    <tr style=\"text-align: right;\">\n",
       "      <th></th>\n",
       "      <th>Model</th>\n",
       "      <th>RMSE</th>\n",
       "      <th>R2_Score</th>\n",
       "    </tr>\n",
       "  </thead>\n",
       "  <tbody>\n",
       "    <tr>\n",
       "      <th>0</th>\n",
       "      <td>Elastic Net Regresson</td>\n",
       "      <td>1374.348015</td>\n",
       "      <td>0.913397</td>\n",
       "    </tr>\n",
       "    <tr>\n",
       "      <th>0</th>\n",
       "      <td>Ridge LinearRegresson</td>\n",
       "      <td>1371.846729</td>\n",
       "      <td>0.913712</td>\n",
       "    </tr>\n",
       "    <tr>\n",
       "      <th>0</th>\n",
       "      <td>Lasso LinearRegresson</td>\n",
       "      <td>1392.551583</td>\n",
       "      <td>0.911087</td>\n",
       "    </tr>\n",
       "    <tr>\n",
       "      <th>0</th>\n",
       "      <td>Vanilla LinearRegresson</td>\n",
       "      <td>1413.233066</td>\n",
       "      <td>0.908427</td>\n",
       "    </tr>\n",
       "  </tbody>\n",
       "</table>\n",
       "</div>"
      ],
      "text/plain": [
       "                     Model         RMSE  R2_Score\n",
       "0    Elastic Net Regresson  1374.348015  0.913397\n",
       "0    Ridge LinearRegresson  1371.846729  0.913712\n",
       "0    Lasso LinearRegresson  1392.551583  0.911087\n",
       "0  Vanilla LinearRegresson  1413.233066  0.908427"
      ]
     },
     "execution_count": 60,
     "metadata": {},
     "output_type": "execute_result"
    }
   ],
   "source": [
    "X_train_ohc,X_test_ohc,Y_train_ohc,Y_test_ohc=train_test_split(X_ohc, Y_ohc,test_size=0.3,random_state=42)\n",
    "\n",
    "best_vanilla_estimator = Pipeline([\n",
    "                     \n",
    "                    (\"make_higher_degree\", PolynomialFeatures(degree=2)),\n",
    "                    #(\"scaler\", StandardScaler()),\n",
    "                    (\"vanilla_regression\", LinearRegression())])\n",
    "\n",
    "Vanilla_predict2=best_vanilla_estimator.fit(X_train_ohc, Y_train_ohc).predict(X_test_ohc)\n",
    "\n",
    "Vanilla_rmse2=rmse(Y_test_ohc,Vanilla_predict2)\n",
    "Vanilla_r2score2=r2_score(Y_test_ohc,Vanilla_predict2)\n",
    "\n",
    "model_scores2={'Model':'Vanilla LinearRegresson','RMSE':Vanilla_rmse2,'R2_Score':Vanilla_r2score2}\n",
    "model_error_matrix2=model_error_matrix2.append([model_scores2])\n",
    "model_error_matrix2"
   ]
  },
  {
   "cell_type": "markdown",
   "id": "162cb81f",
   "metadata": {},
   "source": [
    "### Scatter plots from four models"
   ]
  },
  {
   "cell_type": "code",
   "execution_count": 61,
   "id": "a8bca4fc",
   "metadata": {},
   "outputs": [
    {
     "data": {
      "image/png": "[encoded data removed]",
      "text/plain": [
       "<Figure size 1008x1008 with 4 Axes>"
      ]
     },
     "metadata": {
      "needs_background": "light"
     },
     "output_type": "display_data"
    }
   ],
   "source": [
    "# Make prediction on the test set and plot four scatter plots separately\n",
    "\n",
    "fig, axes = plt.subplots(2,2, figsize=(14,14), sharex=True, sharey=True)\n",
    "fig.text(0.5, 0.07, 'Predicted Price', ha='center', fontdict={'size': 16})\n",
    "fig.text(0.07, 0.5, 'Actual Price', va='center', rotation='vertical', fontdict={'size': 16})\n",
    "\n",
    "\n",
    "models=[Vanilla_predict2,Lasso_predict2,Ridge_predict2,ElasticNet_predict2]\n",
    "\n",
    "labels = ['Linear', 'Lasso', 'Ridge', 'Elastic Net']\n",
    "\n",
    "for i, ax in enumerate(axes.flatten()):\n",
    "    y_pred=models[i]\n",
    "\n",
    "    r_squared = r2_score(Y_test_ohc, y_pred)\n",
    "\n",
    "    ax.plot(Y_test_ohc, y_pred, marker='o', ls='', ms=3.0)\n",
    "    ax.set(title=f'{labels[i]} Regression R2: {r_squared}')"
   ]
  },
  {
   "cell_type": "markdown",
   "id": "64b42dcf",
   "metadata": {},
   "source": [
    "Ridge Regression has the best prediction on the test set. All these models can explain the target around 90% - 91%"
   ]
  },
  {
   "cell_type": "code",
   "execution_count": 62,
   "id": "f5a0f6e3",
   "metadata": {},
   "outputs": [
    {
     "data": {
      "image/png": "[encoded data removed]",
      "text/plain": [
       "<Figure size 432x432 with 1 Axes>"
      ]
     },
     "metadata": {
      "needs_background": "light"
     },
     "output_type": "display_data"
    }
   ],
   "source": [
    "# Make prediction on the test set and plot one combined scatter plot\n",
    "\n",
    "fig = plt.figure(figsize=(6,6))\n",
    "ax = plt.axes()\n",
    "\n",
    "models=[Vanilla_predict2,Lasso_predict2,Ridge_predict2,ElasticNet_predict2]\n",
    "         \n",
    "labels = ['Linear','Lasso','Ridge','Elastic Net']\n",
    "\n",
    "for mod, lab in zip(models, labels):\n",
    "    y_pred=models[i]\n",
    "    ax.plot(Y_test_ohc, y_pred, marker='o', ls='', ms=3.0, label=lab)\n",
    "\n",
    "leg = plt.legend(frameon=True)\n",
    "leg.get_frame().set_edgecolor('black')\n",
    "leg.get_frame().set_linewidth(1.0)\n",
    "\n",
    "ax.set(xlabel='Actual Price', \n",
    "       ylabel='Predicted Price', \n",
    "       title='Regression Results');"
   ]
  },
  {
   "cell_type": "markdown",
   "id": "5c47116c",
   "metadata": {},
   "source": [
    "As expected, these plots are nearly identical."
   ]
  },
  {
   "cell_type": "markdown",
   "id": "4d111e77",
   "metadata": {},
   "source": [
    "## Feature IMportance\n"
   ]
  },
  {
   "cell_type": "markdown",
   "id": "82e7edd2",
   "metadata": {},
   "source": [
    "As shown above, the Ridge Regression is our best model.Let's see which feature is the most important in the model."
   ]
  },
  {
   "cell_type": "code",
   "execution_count": 63,
   "id": "46629e69",
   "metadata": {},
   "outputs": [
    {
     "data": {
      "text/plain": [
       "Pipeline(steps=[('make_higher_degree', PolynomialFeatures()),\n",
       "                ('scaler', StandardScaler()),\n",
       "                ('ridge_regression', Ridge(alpha=12.324645850253583))])"
      ]
     },
     "execution_count": 63,
     "metadata": {},
     "output_type": "execute_result"
    }
   ],
   "source": [
    "best_Ridge_estimator = Pipeline([\n",
    "                    \n",
    "                    (\"make_higher_degree\", PolynomialFeatures(degree=2)),\n",
    "                    (\"scaler\", StandardScaler()),\n",
    "                    (\"ridge_regression\", Ridge(alpha=12.324645850253583))])\n",
    "\n",
    "best_Ridge_estimator.fit(X_train_ohc, Y_train_ohc)"
   ]
  },
  {
   "cell_type": "code",
   "execution_count": 64,
   "id": "6cafc6f0",
   "metadata": {},
   "outputs": [
    {
     "data": {
      "text/plain": [
       "array([ 0.00000000e+00, -2.23808507e+03,  1.13842293e+03, -4.11612769e+02,\n",
       "       -4.66329877e+01, -2.25025505e+03, -9.75397340e+01, -5.40794082e+01,\n",
       "        8.08482791e+02, -6.72008589e+00, -1.19180337e+02,  6.63487798e+02,\n",
       "        3.65101758e+01,  2.09699036e+01,  3.36697324e+01, -6.55030740e+01,\n",
       "       -3.12497021e+02, -2.06913987e+02,  4.37063985e+02, -6.94226552e+01,\n",
       "        5.80364416e+01,  2.01382179e+02, -5.88635616e+00,  5.63079346e+02,\n",
       "       -4.35413878e+00, -5.70140290e+01,  4.54707356e+02,  1.00662036e+00,\n",
       "       -4.13289477e+02,  3.10229674e+02,  2.23336602e-01,  2.14297937e+01,\n",
       "       -3.24343489e-01,  8.61902556e+02,  4.00151493e+02, -8.50609403e+01,\n",
       "        5.13183060e+02, -5.30210170e+01,  8.63923137e+02, -2.92058609e+01,\n",
       "        1.56613163e+00, -3.54539853e+01, -6.72008589e+00, -1.26592633e+02,\n",
       "       -2.95469801e+02, -2.06409622e+01, -1.19951519e+02, -2.27861209e+01,\n",
       "       -7.29594709e+01, -2.20006521e+01,  2.01643319e+01, -9.39941855e+01,\n",
       "       -2.22205777e+02, -8.40102191e+01, -1.77460667e+02, -5.88635616e+00,\n",
       "       -7.74959371e+01,  1.96153503e+01, -1.57570686e+01, -4.21755473e+01,\n",
       "        1.00662036e+00,  3.31178243e+01, -4.33906301e+01,  2.23336602e-01,\n",
       "        2.42103154e+01, -3.24343489e-01,  2.29343102e+02,  4.34790775e+02,\n",
       "       -4.18491228e+02, -5.39837439e+02, -1.11576237e+03,  3.50597612e+01,\n",
       "        9.69315612e+01,  1.80396108e+02, -6.72008589e+00,  1.14442353e+02,\n",
       "        2.32066311e+02,  5.37191251e+01, -1.36938529e+02,  2.72885413e+01,\n",
       "        8.30349794e+01,  3.72135642e+01,  7.76898278e+01,  1.04615711e+02,\n",
       "        4.84562373e+01, -2.05122449e+02, -1.73657527e+02, -5.88635616e+00,\n",
       "        4.87778876e+00,  6.28303568e+00, -1.36745506e+01, -1.54774471e+02,\n",
       "        1.00662036e+00, -3.63508966e+01,  1.95873701e+01,  0.00000000e+00,\n",
       "        6.31592946e+01,  0.00000000e+00, -4.09511178e+02,  1.52123175e+03,\n",
       "       -2.11335468e+03, -2.19249876e+02,  6.55810376e+02,  9.03835122e+02,\n",
       "       -1.29833106e+03, -6.72008589e+00, -1.49819466e+02, -1.00966849e+03,\n",
       "       -1.10314736e+02,  4.44502186e+02,  1.76579577e+02,  4.22326220e+02,\n",
       "        3.36801622e+02, -2.72587285e+02,  1.44004052e+03,  9.27275297e+02,\n",
       "        1.46655439e+03,  8.45598058e+01, -5.88635616e+00, -1.33014921e+02,\n",
       "       -2.25877305e+00,  2.05322755e+02, -2.64640555e+02,  1.00662036e+00,\n",
       "       -2.46614237e+02, -2.61610929e+02,  2.23336602e-01, -1.79327982e+02,\n",
       "       -3.24343489e-01, -6.29394587e+02,  3.50826172e+03,  8.96964991e+01,\n",
       "       -2.08940821e+02, -1.44043738e+02,  8.08482791e+02, -6.72008589e+00,\n",
       "        9.33009799e+02,  1.56148807e+03,  7.47466588e+01,  6.67533679e+02,\n",
       "       -6.80817388e+01, -1.41691163e+02,  4.24385748e+02,  3.70109331e+02,\n",
       "       -3.92604922e+02,  1.62573662e+02, -1.74398925e+03, -1.93856856e+02,\n",
       "       -5.88635616e+00,  3.12801598e+02, -4.35413878e+00,  1.78821509e+02,\n",
       "       -1.83881341e+02,  1.00662036e+00,  9.22236183e+02, -6.54962047e+01,\n",
       "        2.23336602e-01,  1.18888694e+01, -3.24343489e-01, -1.24688456e+03,\n",
       "        1.32940952e+03, -1.03035723e+02, -3.75342520e+02, -1.99115806e+02,\n",
       "       -6.72008589e+00, -4.41126065e+02, -9.11286047e+02, -1.02073183e+02,\n",
       "       -2.44162675e+02, -3.10896892e+01,  9.74856711e+01, -2.43560035e+01,\n",
       "        2.59332491e+02, -3.16415903e+02, -2.78948395e+02,  3.81169868e+01,\n",
       "        7.19446698e+01, -5.88635616e+00, -4.94245141e+02, -1.46196917e+01,\n",
       "       -6.48300529e+01,  1.67675890e+02,  1.00662036e+00, -3.67618005e+01,\n",
       "       -3.87880283e+01,  2.23336602e-01, -2.55957335e+01, -3.24343489e-01,\n",
       "        3.64385875e+01, -9.75397340e+01,  0.00000000e+00,  0.00000000e+00,\n",
       "        0.00000000e+00,  0.00000000e+00,  0.00000000e+00,  0.00000000e+00,\n",
       "        0.00000000e+00,  0.00000000e+00,  0.00000000e+00,  0.00000000e+00,\n",
       "        0.00000000e+00,  0.00000000e+00,  0.00000000e+00,  0.00000000e+00,\n",
       "        0.00000000e+00,  0.00000000e+00,  0.00000000e+00,  0.00000000e+00,\n",
       "        0.00000000e+00,  0.00000000e+00,  0.00000000e+00,  4.57868817e+00,\n",
       "       -2.58753037e+01,  0.00000000e+00,  0.00000000e+00,  0.00000000e+00,\n",
       "        3.47042942e+01, -5.40794082e+01,  0.00000000e+00,  0.00000000e+00,\n",
       "        0.00000000e+00,  0.00000000e+00,  0.00000000e+00,  0.00000000e+00,\n",
       "        0.00000000e+00,  0.00000000e+00,  0.00000000e+00,  0.00000000e+00,\n",
       "        0.00000000e+00,  0.00000000e+00,  0.00000000e+00,  0.00000000e+00,\n",
       "        0.00000000e+00,  0.00000000e+00,  0.00000000e+00,  0.00000000e+00,\n",
       "        0.00000000e+00,  0.00000000e+00, -1.19334743e+02,  2.57721317e+00,\n",
       "        0.00000000e+00,  0.00000000e+00,  0.00000000e+00,  1.25228375e+02,\n",
       "        8.08482791e+02,  0.00000000e+00,  0.00000000e+00,  0.00000000e+00,\n",
       "        0.00000000e+00,  0.00000000e+00,  0.00000000e+00,  0.00000000e+00,\n",
       "        0.00000000e+00,  0.00000000e+00,  0.00000000e+00,  0.00000000e+00,\n",
       "        0.00000000e+00,  0.00000000e+00,  0.00000000e+00,  0.00000000e+00,\n",
       "        0.00000000e+00,  0.00000000e+00,  0.00000000e+00,  0.00000000e+00,\n",
       "       -1.43581751e+02, -8.54932780e+01,  0.00000000e+00,  0.00000000e+00,\n",
       "        0.00000000e+00,  0.00000000e+00, -6.72008589e+00,  0.00000000e+00,\n",
       "        0.00000000e+00,  0.00000000e+00,  0.00000000e+00,  0.00000000e+00,\n",
       "        0.00000000e+00,  0.00000000e+00,  0.00000000e+00,  0.00000000e+00,\n",
       "        0.00000000e+00,  0.00000000e+00,  0.00000000e+00,  0.00000000e+00,\n",
       "        0.00000000e+00,  0.00000000e+00,  0.00000000e+00,  0.00000000e+00,\n",
       "        0.00000000e+00, -6.72008589e+00,  0.00000000e+00,  0.00000000e+00,\n",
       "        0.00000000e+00,  0.00000000e+00, -6.72008589e+00, -1.19180337e+02,\n",
       "        0.00000000e+00,  0.00000000e+00,  0.00000000e+00,  0.00000000e+00,\n",
       "        0.00000000e+00,  0.00000000e+00,  0.00000000e+00,  0.00000000e+00,\n",
       "        0.00000000e+00,  0.00000000e+00,  0.00000000e+00,  0.00000000e+00,\n",
       "        0.00000000e+00,  0.00000000e+00,  0.00000000e+00,  0.00000000e+00,\n",
       "        0.00000000e+00, -1.59685877e+02,  1.87409414e+01,  0.00000000e+00,\n",
       "        0.00000000e+00,  0.00000000e+00,  1.95839423e+02,  6.63487798e+02,\n",
       "        0.00000000e+00,  0.00000000e+00,  0.00000000e+00,  0.00000000e+00,\n",
       "        0.00000000e+00,  0.00000000e+00,  0.00000000e+00,  0.00000000e+00,\n",
       "        0.00000000e+00,  0.00000000e+00,  0.00000000e+00,  0.00000000e+00,\n",
       "        0.00000000e+00,  0.00000000e+00,  0.00000000e+00,  0.00000000e+00,\n",
       "        2.88236050e+02, -5.56272248e+01,  0.00000000e+00,  0.00000000e+00,\n",
       "        0.00000000e+00, -1.36641106e+02,  3.65101758e+01,  0.00000000e+00,\n",
       "        0.00000000e+00,  0.00000000e+00,  0.00000000e+00,  0.00000000e+00,\n",
       "        0.00000000e+00,  0.00000000e+00,  0.00000000e+00,  0.00000000e+00,\n",
       "        0.00000000e+00,  0.00000000e+00,  0.00000000e+00,  0.00000000e+00,\n",
       "        0.00000000e+00,  0.00000000e+00,  8.29845139e+00,  0.00000000e+00,\n",
       "        0.00000000e+00,  0.00000000e+00,  0.00000000e+00, -2.70187709e+01,\n",
       "        2.09699036e+01,  0.00000000e+00,  0.00000000e+00,  0.00000000e+00,\n",
       "        0.00000000e+00,  0.00000000e+00,  0.00000000e+00,  0.00000000e+00,\n",
       "        0.00000000e+00,  0.00000000e+00,  0.00000000e+00,  0.00000000e+00,\n",
       "        0.00000000e+00,  0.00000000e+00,  0.00000000e+00,  1.27798791e+01,\n",
       "        1.77909298e+01,  0.00000000e+00,  0.00000000e+00,  0.00000000e+00,\n",
       "        1.14788204e+02,  3.36697324e+01,  0.00000000e+00,  0.00000000e+00,\n",
       "        0.00000000e+00,  0.00000000e+00,  0.00000000e+00,  0.00000000e+00,\n",
       "        0.00000000e+00,  0.00000000e+00,  0.00000000e+00,  0.00000000e+00,\n",
       "        0.00000000e+00,  0.00000000e+00,  0.00000000e+00,  9.45314300e+01,\n",
       "       -1.12266463e+01,  0.00000000e+00,  0.00000000e+00,  0.00000000e+00,\n",
       "       -1.90780343e+01, -6.55030740e+01,  0.00000000e+00,  0.00000000e+00,\n",
       "        0.00000000e+00,  0.00000000e+00,  0.00000000e+00,  0.00000000e+00,\n",
       "        0.00000000e+00,  0.00000000e+00,  0.00000000e+00,  0.00000000e+00,\n",
       "        0.00000000e+00,  0.00000000e+00,  2.17235833e+01,  0.00000000e+00,\n",
       "        0.00000000e+00,  0.00000000e+00,  0.00000000e+00,  0.00000000e+00,\n",
       "       -3.12497021e+02,  0.00000000e+00,  0.00000000e+00,  0.00000000e+00,\n",
       "        0.00000000e+00,  0.00000000e+00,  0.00000000e+00,  0.00000000e+00,\n",
       "        0.00000000e+00,  0.00000000e+00,  0.00000000e+00,  0.00000000e+00,\n",
       "       -3.12497021e+02,  0.00000000e+00,  0.00000000e+00,  0.00000000e+00,\n",
       "        0.00000000e+00, -8.44018402e+01, -2.06913987e+02,  0.00000000e+00,\n",
       "        0.00000000e+00,  0.00000000e+00,  0.00000000e+00,  0.00000000e+00,\n",
       "        0.00000000e+00,  0.00000000e+00,  0.00000000e+00,  0.00000000e+00,\n",
       "        0.00000000e+00, -2.06913987e+02,  0.00000000e+00,  0.00000000e+00,\n",
       "        0.00000000e+00,  0.00000000e+00, -2.06913987e+02,  4.37063985e+02,\n",
       "        0.00000000e+00,  0.00000000e+00,  0.00000000e+00,  0.00000000e+00,\n",
       "        0.00000000e+00,  0.00000000e+00,  0.00000000e+00,  0.00000000e+00,\n",
       "        0.00000000e+00, -3.52646363e+02, -5.99132868e+01,  0.00000000e+00,\n",
       "       -6.29505720e+01,  0.00000000e+00,  1.37361200e+02, -6.94226552e+01,\n",
       "        0.00000000e+00,  0.00000000e+00,  0.00000000e+00,  0.00000000e+00,\n",
       "        0.00000000e+00,  0.00000000e+00,  0.00000000e+00,  0.00000000e+00,\n",
       "       -2.28853720e+02, -2.25188504e+01,  2.23336602e-01,  5.81291036e+01,\n",
       "       -3.24343489e-01,  1.44329994e+02,  5.80364416e+01,  0.00000000e+00,\n",
       "        0.00000000e+00,  0.00000000e+00,  0.00000000e+00,  0.00000000e+00,\n",
       "        0.00000000e+00,  0.00000000e+00, -1.71970635e+02, -3.93857664e+01,\n",
       "        0.00000000e+00,  0.00000000e+00,  0.00000000e+00,  5.80364416e+01,\n",
       "        2.01382179e+02,  0.00000000e+00,  0.00000000e+00,  0.00000000e+00,\n",
       "        0.00000000e+00,  0.00000000e+00,  0.00000000e+00,  2.01382179e+02,\n",
       "        0.00000000e+00,  0.00000000e+00,  7.25633069e+00,  0.00000000e+00,\n",
       "        2.02106233e+02, -5.88635616e+00,  0.00000000e+00,  0.00000000e+00,\n",
       "        0.00000000e+00,  0.00000000e+00,  0.00000000e+00, -5.88635616e+00,\n",
       "        0.00000000e+00,  0.00000000e+00,  0.00000000e+00,  0.00000000e+00,\n",
       "        0.00000000e+00,  5.63079346e+02,  0.00000000e+00,  0.00000000e+00,\n",
       "        0.00000000e+00,  0.00000000e+00, -3.08946012e+01, -1.40743535e+01,\n",
       "        0.00000000e+00,  0.00000000e+00,  0.00000000e+00,  5.34535314e+01,\n",
       "       -4.35413878e+00,  0.00000000e+00,  0.00000000e+00,  0.00000000e+00,\n",
       "       -4.35413878e+00,  0.00000000e+00,  0.00000000e+00,  0.00000000e+00,\n",
       "        0.00000000e+00, -4.35413878e+00, -5.70140290e+01,  0.00000000e+00,\n",
       "        0.00000000e+00, -2.55848129e+01,  0.00000000e+00,  0.00000000e+00,\n",
       "        0.00000000e+00,  0.00000000e+00, -2.71631928e+00,  4.54707356e+02,\n",
       "        0.00000000e+00, -8.50192356e+00,  0.00000000e+00,  0.00000000e+00,\n",
       "        0.00000000e+00,  0.00000000e+00,  0.00000000e+00,  1.00662036e+00,\n",
       "        1.00662036e+00,  0.00000000e+00,  0.00000000e+00,  0.00000000e+00,\n",
       "        0.00000000e+00,  0.00000000e+00, -4.13289477e+02,  0.00000000e+00,\n",
       "        0.00000000e+00,  7.25633069e+00,  0.00000000e+00,  2.85266860e+02,\n",
       "        3.10229674e+02,  0.00000000e+00,  6.10853560e+00,  0.00000000e+00,\n",
       "       -2.25267417e+02,  2.23336602e-01,  0.00000000e+00,  0.00000000e+00,\n",
       "        0.00000000e+00,  2.14297937e+01,  0.00000000e+00,  0.00000000e+00,\n",
       "       -3.24343489e-01,  0.00000000e+00,  8.61902556e+02])"
      ]
     },
     "execution_count": 64,
     "metadata": {},
     "output_type": "execute_result"
    }
   ],
   "source": [
    "best_Ridge_estimator.named_steps[\"ridge_regression\"].coef_"
   ]
  },
  {
   "cell_type": "code",
   "execution_count": 107,
   "id": "a1431f13",
   "metadata": {},
   "outputs": [
    {
     "name": "stdout",
     "output_type": "stream",
     "text": [
      "                                  0            1\n",
      "130                    engineSize^2  3508.261724\n",
      "137         engineSize model_ Focus  1561.488067\n",
      "99                            mpg^2  1521.231749\n",
      "116              mpg model_ Mustang  1466.554393\n",
      "114                 mpg model_ Kuga  1440.040517\n",
      "160                           age^2  1329.409522\n",
      "2                               tax  1138.422930\n",
      "136        engineSize model_ Fiesta   933.009799\n",
      "115               mpg model_ Mondeo   927.275297\n",
      "154  engineSize transmission_Manual   922.236183\n",
      "--------------------------------------------------\n",
      "                              0            1\n",
      "129         mpg fuelType_Petrol  -629.394587\n",
      "166            age model_ Focus  -911.286047\n",
      "107            mpg model_ Focus -1009.668487\n",
      "70                      tax age -1115.762366\n",
      "159  engineSize fuelType_Petrol -1246.884564\n",
      "104             mpg model_ Edge -1298.331059\n",
      "146   engineSize model_ Mustang -1743.989248\n",
      "100              mpg engineSize -2113.354677\n",
      "1                       mileage -2238.085071\n",
      "5                           age -2250.255045\n"
     ]
    }
   ],
   "source": [
    "df_importances = pd.DataFrame(zip(best_Ridge_estimator.named_steps[\"make_higher_degree\"].get_feature_names(input_features=X_train_ohc.columns),\n",
    "                 best_Ridge_estimator.named_steps[\"ridge_regression\"].coef_,\n",
    "))\n",
    "df_importances=df_importances.sort_values(by=1,ascending=False)\n",
    "print(df_importances.head(10))\n",
    "print('-'*50)\n",
    "print(df_importances.tail(10))      "
   ]
  },
  {
   "cell_type": "code",
   "execution_count": 103,
   "id": "9fe4b766",
   "metadata": {},
   "outputs": [
    {
     "data": {
      "image/png": "[encoded data removed]",
      "text/plain": [
       "<Figure size 1152x720 with 1 Axes>"
      ]
     },
     "metadata": {
      "needs_background": "light"
     },
     "output_type": "display_data"
    }
   ],
   "source": [
    "top15_df_importances=df_importances.head(15)\n",
    "last15_df_importances=df_importances.tail(15)\n",
    "a=[top15_df_importances,last15_df_importances]\n",
    "a=pd.concat(a)\n",
    "\n",
    "\n",
    "import matplotlib.pyplot as plt\n",
    "fig = plt.figure(figsize=(16,10))\n",
    "plt.bar(a[0],a[1])\n",
    "plt.xticks(rotation = 90)\n",
    "plt.xticks(fontsize=16)\n",
    "plt.yticks(fontsize=16)\n",
    "plt.xlabel('Features',fontsize=20)\n",
    "plt.ylabel('Feature Coefficient',fontsize=20)\n",
    "plt.title('Feature Importance (top 15 and last 15 only)',fontsize=24)\n",
    "\n",
    "plt.show()"
   ]
  },
  {
   "cell_type": "code",
   "execution_count": 68,
   "id": "4b34f196",
   "metadata": {},
   "outputs": [
    {
     "data": {
      "text/html": [
       "<div>\n",
       "<style scoped>\n",
       "    .dataframe tbody tr th:only-of-type {\n",
       "        vertical-align: middle;\n",
       "    }\n",
       "\n",
       "    .dataframe tbody tr th {\n",
       "        vertical-align: top;\n",
       "    }\n",
       "\n",
       "    .dataframe thead th {\n",
       "        text-align: right;\n",
       "    }\n",
       "</style>\n",
       "<table border=\"1\" class=\"dataframe\">\n",
       "  <thead>\n",
       "    <tr style=\"text-align: right;\">\n",
       "      <th></th>\n",
       "      <th>0</th>\n",
       "      <th>1</th>\n",
       "    </tr>\n",
       "  </thead>\n",
       "  <tbody>\n",
       "    <tr>\n",
       "      <th>406</th>\n",
       "      <td>model_ Grand Tourneo Connect model_ KA</td>\n",
       "      <td>0.0</td>\n",
       "    </tr>\n",
       "    <tr>\n",
       "      <th>409</th>\n",
       "      <td>model_ Grand Tourneo Connect model_ Mondeo</td>\n",
       "      <td>0.0</td>\n",
       "    </tr>\n",
       "    <tr>\n",
       "      <th>408</th>\n",
       "      <td>model_ Grand Tourneo Connect model_ Kuga</td>\n",
       "      <td>0.0</td>\n",
       "    </tr>\n",
       "    <tr>\n",
       "      <th>334</th>\n",
       "      <td>model_ Focus model_ Tourneo Custom</td>\n",
       "      <td>0.0</td>\n",
       "    </tr>\n",
       "    <tr>\n",
       "      <th>407</th>\n",
       "      <td>model_ Grand Tourneo Connect model_ Ka+</td>\n",
       "      <td>0.0</td>\n",
       "    </tr>\n",
       "    <tr>\n",
       "      <th>...</th>\n",
       "      <td>...</td>\n",
       "      <td>...</td>\n",
       "    </tr>\n",
       "    <tr>\n",
       "      <th>263</th>\n",
       "      <td>model_ Edge model_ Transit Tourneo</td>\n",
       "      <td>0.0</td>\n",
       "    </tr>\n",
       "    <tr>\n",
       "      <th>285</th>\n",
       "      <td>model_ Escort model_ Streetka</td>\n",
       "      <td>0.0</td>\n",
       "    </tr>\n",
       "    <tr>\n",
       "      <th>284</th>\n",
       "      <td>model_ Escort model_ S-MAX</td>\n",
       "      <td>0.0</td>\n",
       "    </tr>\n",
       "    <tr>\n",
       "      <th>282</th>\n",
       "      <td>model_ Escort model_ Puma</td>\n",
       "      <td>0.0</td>\n",
       "    </tr>\n",
       "    <tr>\n",
       "      <th>283</th>\n",
       "      <td>model_ Escort model_ Ranger</td>\n",
       "      <td>0.0</td>\n",
       "    </tr>\n",
       "  </tbody>\n",
       "</table>\n",
       "<p>322 rows × 2 columns</p>\n",
       "</div>"
      ],
      "text/plain": [
       "                                              0    1\n",
       "406      model_ Grand Tourneo Connect model_ KA  0.0\n",
       "409  model_ Grand Tourneo Connect model_ Mondeo  0.0\n",
       "408    model_ Grand Tourneo Connect model_ Kuga  0.0\n",
       "334          model_ Focus model_ Tourneo Custom  0.0\n",
       "407     model_ Grand Tourneo Connect model_ Ka+  0.0\n",
       "..                                          ...  ...\n",
       "263          model_ Edge model_ Transit Tourneo  0.0\n",
       "285               model_ Escort model_ Streetka  0.0\n",
       "284                  model_ Escort model_ S-MAX  0.0\n",
       "282                   model_ Escort model_ Puma  0.0\n",
       "283                 model_ Escort model_ Ranger  0.0\n",
       "\n",
       "[322 rows x 2 columns]"
      ]
     },
     "execution_count": 68,
     "metadata": {},
     "output_type": "execute_result"
    }
   ],
   "source": [
    "# Features that Ridge eliminated\n",
    "df_importances[df_importances[1] == 0]"
   ]
  },
  {
   "cell_type": "code",
   "execution_count": null,
   "id": "0f3f10c3",
   "metadata": {},
   "outputs": [],
   "source": []
  }
 ],
 "metadata": {
  "kernelspec": {
   "display_name": "Python 3 (ipykernel)",
   "language": "python",
   "name": "python3"
  },
  "language_info": {
   "codemirror_mode": {
    "name": "ipython",
    "version": 3
   },
   "file_extension": ".py",
   "mimetype": "text/x-python",
   "name": "python",
   "nbconvert_exporter": "python",
   "pygments_lexer": "ipython3",
   "version": "3.9.7"
  }
 },
 "nbformat": 4,
 "nbformat_minor": 5
}
